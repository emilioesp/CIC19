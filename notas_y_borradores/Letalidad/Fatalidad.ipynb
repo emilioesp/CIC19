{
 "cells": [
  {
   "cell_type": "code",
   "execution_count": 1,
   "metadata": {},
   "outputs": [],
   "source": [
    "# Modulos necesarios \n",
    "import numpy as np\n",
    "import pandas as pd \n",
    "import matplotlib.pyplot as plt\n",
    "import seaborn as sns \n",
    "import datetime as datetime \n",
    "import datetime\n",
    "import os\n",
    "from docx import Document\n",
    "from docx.shared import Inches\n",
    "from docx.enum.text import WD_ALIGN_PARAGRAPH\n",
    "import zipfile, requests, io\n",
    "#from pandas.plotting import register_matplotlib_converters\n",
    "#register_matplotlib_converters()\n",
    "#import matplotlib.ticker as ticker\n",
    "import matplotlib.dates as mdates\n",
    "from matplotlib.dates import MO, TU, WE, TH, FR, SA, SU\n"
   ]
  },
  {
   "cell_type": "code",
   "execution_count": 2,
   "metadata": {},
   "outputs": [],
   "source": [
    "#string = datetime.datetime.today().strftime('%y%m%d')\n",
    "string = '200629' # RECUERDA PONER EL OTRO PARA ACTUALIZAR\n",
    "path = 'C:/Users/Emilio EG/Documents/ITAM/CIC19/'\n",
    "path2 = path+string+'/'\n",
    "path3 = path+'datos/'\n",
    "#os.mkdir(path2) # Este comando crea el folder en el desktop con la fecha del día "
   ]
  },
  {
   "cell_type": "code",
   "execution_count": null,
   "metadata": {},
   "outputs": [],
   "source": [
    "zp = requests.get('http://187.191.75.115/gobmx/salud/datos_abiertos/datos_abiertos_covid19.zip')\n",
    "zf = zipfile.ZipFile(io.BytesIO(zp.content)) \n",
    "zf.extractall(path2)"
   ]
  },
  {
   "cell_type": "code",
   "execution_count": 4,
   "metadata": {},
   "outputs": [
    {
     "data": {
      "text/html": [
       "<div>\n",
       "<style scoped>\n",
       "    .dataframe tbody tr th:only-of-type {\n",
       "        vertical-align: middle;\n",
       "    }\n",
       "\n",
       "    .dataframe tbody tr th {\n",
       "        vertical-align: top;\n",
       "    }\n",
       "\n",
       "    .dataframe thead th {\n",
       "        text-align: right;\n",
       "    }\n",
       "</style>\n",
       "<table border=\"1\" class=\"dataframe\">\n",
       "  <thead>\n",
       "    <tr style=\"text-align: right;\">\n",
       "      <th></th>\n",
       "      <th>FECHA_ACTUALIZACION</th>\n",
       "      <th>ID_REGISTRO</th>\n",
       "      <th>ORIGEN</th>\n",
       "      <th>SECTOR</th>\n",
       "      <th>ENTIDAD_UM</th>\n",
       "      <th>SEXO</th>\n",
       "      <th>ENTIDAD_NAC</th>\n",
       "      <th>ENTIDAD_RES</th>\n",
       "      <th>MUNICIPIO_RES</th>\n",
       "      <th>TIPO_PACIENTE</th>\n",
       "      <th>...</th>\n",
       "      <th>CARDIOVASCULAR</th>\n",
       "      <th>OBESIDAD</th>\n",
       "      <th>RENAL_CRONICA</th>\n",
       "      <th>TABAQUISMO</th>\n",
       "      <th>OTRO_CASO</th>\n",
       "      <th>RESULTADO</th>\n",
       "      <th>MIGRANTE</th>\n",
       "      <th>PAIS_NACIONALIDAD</th>\n",
       "      <th>PAIS_ORIGEN</th>\n",
       "      <th>UCI</th>\n",
       "    </tr>\n",
       "  </thead>\n",
       "  <tbody>\n",
       "    <tr>\n",
       "      <th>0</th>\n",
       "      <td>2020-06-29</td>\n",
       "      <td>16169f</td>\n",
       "      <td>2</td>\n",
       "      <td>3</td>\n",
       "      <td>27</td>\n",
       "      <td>2</td>\n",
       "      <td>27</td>\n",
       "      <td>27</td>\n",
       "      <td>13</td>\n",
       "      <td>1</td>\n",
       "      <td>...</td>\n",
       "      <td>2</td>\n",
       "      <td>2</td>\n",
       "      <td>2</td>\n",
       "      <td>2</td>\n",
       "      <td>2</td>\n",
       "      <td>1</td>\n",
       "      <td>99</td>\n",
       "      <td>MÃ©xico</td>\n",
       "      <td>99</td>\n",
       "      <td>97</td>\n",
       "    </tr>\n",
       "    <tr>\n",
       "      <th>1</th>\n",
       "      <td>2020-06-29</td>\n",
       "      <td>1009bf</td>\n",
       "      <td>2</td>\n",
       "      <td>4</td>\n",
       "      <td>14</td>\n",
       "      <td>2</td>\n",
       "      <td>14</td>\n",
       "      <td>14</td>\n",
       "      <td>39</td>\n",
       "      <td>1</td>\n",
       "      <td>...</td>\n",
       "      <td>2</td>\n",
       "      <td>2</td>\n",
       "      <td>2</td>\n",
       "      <td>2</td>\n",
       "      <td>99</td>\n",
       "      <td>1</td>\n",
       "      <td>99</td>\n",
       "      <td>MÃ©xico</td>\n",
       "      <td>99</td>\n",
       "      <td>97</td>\n",
       "    </tr>\n",
       "    <tr>\n",
       "      <th>2</th>\n",
       "      <td>2020-06-29</td>\n",
       "      <td>167386</td>\n",
       "      <td>2</td>\n",
       "      <td>4</td>\n",
       "      <td>2</td>\n",
       "      <td>1</td>\n",
       "      <td>15</td>\n",
       "      <td>2</td>\n",
       "      <td>2</td>\n",
       "      <td>2</td>\n",
       "      <td>...</td>\n",
       "      <td>2</td>\n",
       "      <td>1</td>\n",
       "      <td>2</td>\n",
       "      <td>2</td>\n",
       "      <td>99</td>\n",
       "      <td>1</td>\n",
       "      <td>99</td>\n",
       "      <td>MÃ©xico</td>\n",
       "      <td>99</td>\n",
       "      <td>2</td>\n",
       "    </tr>\n",
       "    <tr>\n",
       "      <th>3</th>\n",
       "      <td>2020-06-29</td>\n",
       "      <td>0b5948</td>\n",
       "      <td>2</td>\n",
       "      <td>4</td>\n",
       "      <td>9</td>\n",
       "      <td>2</td>\n",
       "      <td>9</td>\n",
       "      <td>9</td>\n",
       "      <td>12</td>\n",
       "      <td>2</td>\n",
       "      <td>...</td>\n",
       "      <td>2</td>\n",
       "      <td>2</td>\n",
       "      <td>2</td>\n",
       "      <td>2</td>\n",
       "      <td>99</td>\n",
       "      <td>1</td>\n",
       "      <td>99</td>\n",
       "      <td>MÃ©xico</td>\n",
       "      <td>99</td>\n",
       "      <td>2</td>\n",
       "    </tr>\n",
       "    <tr>\n",
       "      <th>4</th>\n",
       "      <td>2020-06-29</td>\n",
       "      <td>0d01b5</td>\n",
       "      <td>2</td>\n",
       "      <td>4</td>\n",
       "      <td>25</td>\n",
       "      <td>1</td>\n",
       "      <td>25</td>\n",
       "      <td>25</td>\n",
       "      <td>6</td>\n",
       "      <td>2</td>\n",
       "      <td>...</td>\n",
       "      <td>1</td>\n",
       "      <td>2</td>\n",
       "      <td>2</td>\n",
       "      <td>2</td>\n",
       "      <td>99</td>\n",
       "      <td>1</td>\n",
       "      <td>99</td>\n",
       "      <td>MÃ©xico</td>\n",
       "      <td>99</td>\n",
       "      <td>2</td>\n",
       "    </tr>\n",
       "  </tbody>\n",
       "</table>\n",
       "<p>5 rows × 35 columns</p>\n",
       "</div>"
      ],
      "text/plain": [
       "  FECHA_ACTUALIZACION ID_REGISTRO  ORIGEN  SECTOR  ENTIDAD_UM  SEXO  \\\n",
       "0          2020-06-29      16169f       2       3          27     2   \n",
       "1          2020-06-29      1009bf       2       4          14     2   \n",
       "2          2020-06-29      167386       2       4           2     1   \n",
       "3          2020-06-29      0b5948       2       4           9     2   \n",
       "4          2020-06-29      0d01b5       2       4          25     1   \n",
       "\n",
       "   ENTIDAD_NAC  ENTIDAD_RES  MUNICIPIO_RES  TIPO_PACIENTE  ... CARDIOVASCULAR  \\\n",
       "0           27           27             13              1  ...              2   \n",
       "1           14           14             39              1  ...              2   \n",
       "2           15            2              2              2  ...              2   \n",
       "3            9            9             12              2  ...              2   \n",
       "4           25           25              6              2  ...              1   \n",
       "\n",
       "  OBESIDAD RENAL_CRONICA  TABAQUISMO  OTRO_CASO  RESULTADO  MIGRANTE  \\\n",
       "0        2             2           2          2          1        99   \n",
       "1        2             2           2         99          1        99   \n",
       "2        1             2           2         99          1        99   \n",
       "3        2             2           2         99          1        99   \n",
       "4        2             2           2         99          1        99   \n",
       "\n",
       "   PAIS_NACIONALIDAD  PAIS_ORIGEN  UCI  \n",
       "0            MÃ©xico           99   97  \n",
       "1            MÃ©xico           99   97  \n",
       "2            MÃ©xico           99    2  \n",
       "3            MÃ©xico           99    2  \n",
       "4            MÃ©xico           99    2  \n",
       "\n",
       "[5 rows x 35 columns]"
      ]
     },
     "execution_count": 4,
     "metadata": {},
     "output_type": "execute_result"
    }
   ],
   "source": [
    "#hoy=datetime.datetime.today()\n",
    "hoy=datetime.datetime.strptime('2020-29-06','%Y-%d-%m')\n",
    "corte = hoy - datetime.timedelta(days=12)\n",
    "\n",
    "base_covid = pd.read_csv(path2+string+'COVID19MEXICO.csv',encoding='latin1') \n",
    "\n",
    "base_covid.head()"
   ]
  },
  {
   "cell_type": "code",
   "execution_count": 4,
   "metadata": {},
   "outputs": [
    {
     "data": {
      "text/plain": [
       "4        2020-04-13\n",
       "5        2020-04-16\n",
       "24       2020-05-15\n",
       "36       2020-04-27\n",
       "41       2020-04-26\n",
       "            ...    \n",
       "566548   2020-05-03\n",
       "566552   2020-06-12\n",
       "566553   2020-06-04\n",
       "566578   2020-06-05\n",
       "566591   2020-05-08\n",
       "Name: FECHA_INGRESO, Length: 36176, dtype: datetime64[ns]"
      ]
     },
     "execution_count": 4,
     "metadata": {},
     "output_type": "execute_result"
    }
   ],
   "source": [
    "base_covid.loc[base_covid['FECHA_DEF'] == '9999-99-99', 'FECHA_DEF'] = pd.NaT #9999-99-99 pasa a ser NaT\n",
    "base_covid['FECHA_DEF']=pd.to_datetime(base_covid['FECHA_DEF']) #los valores de la columna pasan a ser datetime\n",
    "base_covid['FECHA_INGRESO']=pd.to_datetime(base_covid['FECHA_INGRESO']) #los valores de la columna pasan a ser datetime\n",
    "base_def=base_covid.dropna() #eliminamos los NA, NaN y NaT\n",
    "base_def['FECHA_INGRESO']"
   ]
  },
  {
   "cell_type": "code",
   "execution_count": 5,
   "metadata": {},
   "outputs": [
    {
     "name": "stderr",
     "output_type": "stream",
     "text": [
      "C:\\Users\\Emilio EG\\AppData\\Roaming\\Python\\Python37\\site-packages\\pandas\\core\\indexing.py:494: SettingWithCopyWarning: \n",
      "A value is trying to be set on a copy of a slice from a DataFrame.\n",
      "Try using .loc[row_indexer,col_indexer] = value instead\n",
      "\n",
      "See the caveats in the documentation: http://pandas.pydata.org/pandas-docs/stable/user_guide/indexing.html#returning-a-view-versus-a-copy\n",
      "  self.obj[item] = s\n",
      "C:\\ProgramData\\Anaconda3\\lib\\site-packages\\ipykernel_launcher.py:4: SettingWithCopyWarning: \n",
      "A value is trying to be set on a copy of a slice from a DataFrame.\n",
      "Try using .loc[row_indexer,col_indexer] = value instead\n",
      "\n",
      "See the caveats in the documentation: http://pandas.pydata.org/pandas-docs/stable/user_guide/indexing.html#returning-a-view-versus-a-copy\n",
      "  after removing the cwd from sys.path.\n"
     ]
    },
    {
     "data": {
      "text/html": [
       "<div>\n",
       "<style scoped>\n",
       "    .dataframe tbody tr th:only-of-type {\n",
       "        vertical-align: middle;\n",
       "    }\n",
       "\n",
       "    .dataframe tbody tr th {\n",
       "        vertical-align: top;\n",
       "    }\n",
       "\n",
       "    .dataframe thead th {\n",
       "        text-align: right;\n",
       "    }\n",
       "</style>\n",
       "<table border=\"1\" class=\"dataframe\">\n",
       "  <thead>\n",
       "    <tr style=\"text-align: right;\">\n",
       "      <th></th>\n",
       "      <th>0</th>\n",
       "    </tr>\n",
       "  </thead>\n",
       "  <tbody>\n",
       "    <tr>\n",
       "      <th>2020-03-18</th>\n",
       "      <td>2</td>\n",
       "    </tr>\n",
       "    <tr>\n",
       "      <th>2020-03-19</th>\n",
       "      <td>2</td>\n",
       "    </tr>\n",
       "    <tr>\n",
       "      <th>2020-03-20</th>\n",
       "      <td>3</td>\n",
       "    </tr>\n",
       "    <tr>\n",
       "      <th>2020-03-21</th>\n",
       "      <td>3</td>\n",
       "    </tr>\n",
       "    <tr>\n",
       "      <th>2020-03-22</th>\n",
       "      <td>4</td>\n",
       "    </tr>\n",
       "    <tr>\n",
       "      <th>...</th>\n",
       "      <td>...</td>\n",
       "    </tr>\n",
       "    <tr>\n",
       "      <th>2020-06-25</th>\n",
       "      <td>26654</td>\n",
       "    </tr>\n",
       "    <tr>\n",
       "      <th>2020-06-26</th>\n",
       "      <td>26853</td>\n",
       "    </tr>\n",
       "    <tr>\n",
       "      <th>2020-06-27</th>\n",
       "      <td>27011</td>\n",
       "    </tr>\n",
       "    <tr>\n",
       "      <th>2020-06-28</th>\n",
       "      <td>27113</td>\n",
       "    </tr>\n",
       "    <tr>\n",
       "      <th>2020-06-29</th>\n",
       "      <td>27121</td>\n",
       "    </tr>\n",
       "  </tbody>\n",
       "</table>\n",
       "<p>104 rows × 1 columns</p>\n",
       "</div>"
      ],
      "text/plain": [
       "                0\n",
       "2020-03-18      2\n",
       "2020-03-19      2\n",
       "2020-03-20      3\n",
       "2020-03-21      3\n",
       "2020-03-22      4\n",
       "...           ...\n",
       "2020-06-25  26654\n",
       "2020-06-26  26853\n",
       "2020-06-27  27011\n",
       "2020-06-28  27113\n",
       "2020-06-29  27121\n",
       "\n",
       "[104 rows x 1 columns]"
      ]
     },
     "execution_count": 5,
     "metadata": {},
     "output_type": "execute_result"
    }
   ],
   "source": [
    "#MUERTES POR COVID\n",
    "base_m_cov=base_def[base_def['RESULTADO']==1] #muertos por covid\n",
    "base_m_cov.loc[base_m_cov['FECHA_SINTOMAS'] == '9999-99-99', 'FECHA_SINTOMAS'] = pd.NaT\n",
    "base_m_cov['FECHA_SINTOMAS']=pd.to_datetime(base_m_cov['FECHA_SINTOMAS'])\n",
    "\n",
    "base_m_cov=base_m_cov.dropna()\n",
    "\n",
    "cuenta_cov=base_m_cov.pivot_table(index=['FECHA_DEF'], aggfunc='size') #contamos los muertos por covid por dia\n",
    "cuenta_cov=pd.DataFrame(cuenta_cov) #lo anterior ahora es df\n",
    "idx=pd.date_range(cuenta_cov.index[0],hoy) #crea un rango de fechas, desde el primero con defuncion hasta hoy\n",
    "cuenta_cov=cuenta_cov.reindex(idx, fill_value=0) #reindexamos el df para tener todas las fechas, las que no estaban ahora valen 0\n",
    "dfs_cov=cuenta_cov.cumsum() #suma acumulada por dia\n",
    "dfs_cov"
   ]
  },
  {
   "cell_type": "code",
   "execution_count": 6,
   "metadata": {},
   "outputs": [
    {
     "name": "stderr",
     "output_type": "stream",
     "text": [
      "C:\\ProgramData\\Anaconda3\\lib\\site-packages\\ipykernel_launcher.py:3: SettingWithCopyWarning: \n",
      "A value is trying to be set on a copy of a slice from a DataFrame.\n",
      "Try using .loc[row_indexer,col_indexer] = value instead\n",
      "\n",
      "See the caveats in the documentation: http://pandas.pydata.org/pandas-docs/stable/user_guide/indexing.html#returning-a-view-versus-a-copy\n",
      "  This is separate from the ipykernel package so we can avoid doing imports until\n"
     ]
    },
    {
     "data": {
      "text/html": [
       "<div>\n",
       "<style scoped>\n",
       "    .dataframe tbody tr th:only-of-type {\n",
       "        vertical-align: middle;\n",
       "    }\n",
       "\n",
       "    .dataframe tbody tr th {\n",
       "        vertical-align: top;\n",
       "    }\n",
       "\n",
       "    .dataframe thead th {\n",
       "        text-align: right;\n",
       "    }\n",
       "</style>\n",
       "<table border=\"1\" class=\"dataframe\">\n",
       "  <thead>\n",
       "    <tr style=\"text-align: right;\">\n",
       "      <th></th>\n",
       "      <th>0</th>\n",
       "    </tr>\n",
       "  </thead>\n",
       "  <tbody>\n",
       "    <tr>\n",
       "      <th>2020-01-13</th>\n",
       "      <td>1</td>\n",
       "    </tr>\n",
       "    <tr>\n",
       "      <th>2020-01-14</th>\n",
       "      <td>2</td>\n",
       "    </tr>\n",
       "    <tr>\n",
       "      <th>2020-01-15</th>\n",
       "      <td>2</td>\n",
       "    </tr>\n",
       "    <tr>\n",
       "      <th>2020-01-16</th>\n",
       "      <td>2</td>\n",
       "    </tr>\n",
       "    <tr>\n",
       "      <th>2020-01-17</th>\n",
       "      <td>3</td>\n",
       "    </tr>\n",
       "    <tr>\n",
       "      <th>...</th>\n",
       "      <td>...</td>\n",
       "    </tr>\n",
       "    <tr>\n",
       "      <th>2020-06-25</th>\n",
       "      <td>220468</td>\n",
       "    </tr>\n",
       "    <tr>\n",
       "      <th>2020-06-26</th>\n",
       "      <td>220618</td>\n",
       "    </tr>\n",
       "    <tr>\n",
       "      <th>2020-06-27</th>\n",
       "      <td>220655</td>\n",
       "    </tr>\n",
       "    <tr>\n",
       "      <th>2020-06-28</th>\n",
       "      <td>220657</td>\n",
       "    </tr>\n",
       "    <tr>\n",
       "      <th>2020-06-29</th>\n",
       "      <td>220657</td>\n",
       "    </tr>\n",
       "  </tbody>\n",
       "</table>\n",
       "<p>169 rows × 1 columns</p>\n",
       "</div>"
      ],
      "text/plain": [
       "                 0\n",
       "2020-01-13       1\n",
       "2020-01-14       2\n",
       "2020-01-15       2\n",
       "2020-01-16       2\n",
       "2020-01-17       3\n",
       "...            ...\n",
       "2020-06-25  220468\n",
       "2020-06-26  220618\n",
       "2020-06-27  220655\n",
       "2020-06-28  220657\n",
       "2020-06-29  220657\n",
       "\n",
       "[169 rows x 1 columns]"
      ]
     },
     "execution_count": 6,
     "metadata": {},
     "output_type": "execute_result"
    }
   ],
   "source": [
    "#RESULTADO POSITIVO\n",
    "base_m_prueba=base_covid[base_covid['RESULTADO']==1] #casos positivos de covid\n",
    "base_m_prueba['FECHA_SINTOMAS']=pd.to_datetime(base_m_prueba['FECHA_SINTOMAS'])\n",
    "\n",
    "\n",
    "\n",
    "cuenta_todo=base_m_prueba.pivot_table(index=['FECHA_SINTOMAS'], aggfunc='size') #contamos las muertes por día\n",
    "cuenta_todo=pd.DataFrame(cuenta_todo) #lo anterior ahora es df\n",
    "idx=pd.date_range(cuenta_todo.index[0],hoy) #crea un rango de fechas, desde el primero con defuncion hasta hoy\n",
    "cuenta_todo=cuenta_todo.reindex(idx, fill_value=0) #reindexa para tener todas las fechas, las que faltaban valen 0\n",
    "dfs_todo=cuenta_todo.cumsum() #suma acumulada por dia\n",
    "dfs_todo"
   ]
  },
  {
   "cell_type": "code",
   "execution_count": 7,
   "metadata": {},
   "outputs": [
    {
     "name": "stderr",
     "output_type": "stream",
     "text": [
      "C:\\Users\\Emilio EG\\AppData\\Roaming\\Python\\Python37\\site-packages\\pandas\\plotting\\_matplotlib\\converter.py:103: FutureWarning: Using an implicitly registered datetime converter for a matplotlib plotting method. The converter was registered by pandas on import. Future versions of pandas will require you to explicitly register matplotlib converters.\n",
      "\n",
      "To register the converters:\n",
      "\t>>> from pandas.plotting import register_matplotlib_converters\n",
      "\t>>> register_matplotlib_converters()\n",
      "  warnings.warn(msg, FutureWarning)\n"
     ]
    },
    {
     "data": {
      "text/plain": [
       "<Figure size 432x288 with 0 Axes>"
      ]
     },
     "metadata": {},
     "output_type": "display_data"
    }
   ],
   "source": [
    "let=dfs_cov/dfs_todo #letalidad = muertos del total que presentaron sintomas cierto dia, contados por dia de sintoma, no de muerte\n",
    "let_avg= let.iloc[:,0].rolling(window=7).mean()*100 #promedio movil 7 dias\n",
    "\n",
    "#plt.gca().xaxis.set_major_formatter(mdates.DateFormatter('%b'))\n",
    "#plt.gca().xaxis.set_major_locator(mdates.MonthLocator(interval=1))\n",
    "plt.gca().xaxis.set_major_formatter(mdates.DateFormatter('%D'))\n",
    "plt.gca().xaxis.set_major_locator(mdates.WeekdayLocator(byweekday=MO, interval=2))\n",
    "plt.plot(let_avg)\n",
    "plt.title('Tasa de letalidad acumulada: NACIONAL')\n",
    "plt.legend(['Media móvil 7 días'])\n",
    "#plt.xlabel('Fecha')\n",
    "plt.ylabel('Tasa en porcentaje (%)')\n",
    "plt.xlim([datetime.datetime.strptime('2020-26-03','%Y-%d-%m'),hoy])\n",
    "plt.axvspan(corte,hoy,color='r',alpha=0.2)\n",
    "plt.text(corte,np.min(let_avg),'En proceso de reporte',fontsize=10,rotation=90)\n",
    "plt.gcf().autofmt_xdate()\n",
    "plt.savefig(path2+'letalidad.png', bbox_inches='tight')\n",
    "plt.clf()"
   ]
  },
  {
   "cell_type": "markdown",
   "metadata": {},
   "source": [
    "## AQUÍ TERMINA EL CÁLCULO DE LETALIDAD"
   ]
  },
  {
   "cell_type": "code",
   "execution_count": 8,
   "metadata": {},
   "outputs": [
    {
     "data": {
      "text/plain": [
       "count    98.000000\n",
       "mean      8.665948\n",
       "std       3.787084\n",
       "min       0.250911\n",
       "25%       6.237684\n",
       "50%      10.898560\n",
       "75%      11.523475\n",
       "max      12.136943\n",
       "Name: 0, dtype: float64"
      ]
     },
     "execution_count": 8,
     "metadata": {},
     "output_type": "execute_result"
    }
   ],
   "source": [
    "let_avg.describe()"
   ]
  },
  {
   "cell_type": "code",
   "execution_count": 9,
   "metadata": {},
   "outputs": [
    {
     "data": {
      "text/html": [
       "<div>\n",
       "<style scoped>\n",
       "    .dataframe tbody tr th:only-of-type {\n",
       "        vertical-align: middle;\n",
       "    }\n",
       "\n",
       "    .dataframe tbody tr th {\n",
       "        vertical-align: top;\n",
       "    }\n",
       "\n",
       "    .dataframe thead th {\n",
       "        text-align: right;\n",
       "    }\n",
       "</style>\n",
       "<table border=\"1\" class=\"dataframe\">\n",
       "  <thead>\n",
       "    <tr style=\"text-align: right;\">\n",
       "      <th></th>\n",
       "      <th>0</th>\n",
       "    </tr>\n",
       "  </thead>\n",
       "  <tbody>\n",
       "    <tr>\n",
       "      <th>2020-01-13</th>\n",
       "      <td>1</td>\n",
       "    </tr>\n",
       "    <tr>\n",
       "      <th>2020-01-14</th>\n",
       "      <td>1</td>\n",
       "    </tr>\n",
       "    <tr>\n",
       "      <th>2020-01-15</th>\n",
       "      <td>0</td>\n",
       "    </tr>\n",
       "    <tr>\n",
       "      <th>2020-01-16</th>\n",
       "      <td>0</td>\n",
       "    </tr>\n",
       "    <tr>\n",
       "      <th>2020-01-17</th>\n",
       "      <td>0</td>\n",
       "    </tr>\n",
       "    <tr>\n",
       "      <th>...</th>\n",
       "      <td>...</td>\n",
       "    </tr>\n",
       "    <tr>\n",
       "      <th>2020-06-25</th>\n",
       "      <td>2527</td>\n",
       "    </tr>\n",
       "    <tr>\n",
       "      <th>2020-06-26</th>\n",
       "      <td>1382</td>\n",
       "    </tr>\n",
       "    <tr>\n",
       "      <th>2020-06-27</th>\n",
       "      <td>376</td>\n",
       "    </tr>\n",
       "    <tr>\n",
       "      <th>2020-06-28</th>\n",
       "      <td>56</td>\n",
       "    </tr>\n",
       "    <tr>\n",
       "      <th>2020-06-29</th>\n",
       "      <td>16</td>\n",
       "    </tr>\n",
       "  </tbody>\n",
       "</table>\n",
       "<p>169 rows × 1 columns</p>\n",
       "</div>"
      ],
      "text/plain": [
       "               0\n",
       "2020-01-13     1\n",
       "2020-01-14     1\n",
       "2020-01-15     0\n",
       "2020-01-16     0\n",
       "2020-01-17     0\n",
       "...          ...\n",
       "2020-06-25  2527\n",
       "2020-06-26  1382\n",
       "2020-06-27   376\n",
       "2020-06-28    56\n",
       "2020-06-29    16\n",
       "\n",
       "[169 rows x 1 columns]"
      ]
     },
     "execution_count": 9,
     "metadata": {},
     "output_type": "execute_result"
    }
   ],
   "source": [
    "base_positivo=base_covid[base_covid['RESULTADO']==1] #casos positivos de covid\n",
    "positivo=base_positivo.pivot_table(index=['FECHA_INGRESO'], aggfunc='size') #contamos casos positivos por dia\n",
    "positivo=pd.DataFrame(positivo)\n",
    "idx=pd.date_range(positivo.index[0],hoy)\n",
    "positivo=positivo.reindex(idx, fill_value=0)\n",
    "positivo"
   ]
  },
  {
   "cell_type": "code",
   "execution_count": 10,
   "metadata": {},
   "outputs": [
    {
     "data": {
      "text/html": [
       "<div>\n",
       "<style scoped>\n",
       "    .dataframe tbody tr th:only-of-type {\n",
       "        vertical-align: middle;\n",
       "    }\n",
       "\n",
       "    .dataframe tbody tr th {\n",
       "        vertical-align: top;\n",
       "    }\n",
       "\n",
       "    .dataframe thead th {\n",
       "        text-align: right;\n",
       "    }\n",
       "</style>\n",
       "<table border=\"1\" class=\"dataframe\">\n",
       "  <thead>\n",
       "    <tr style=\"text-align: right;\">\n",
       "      <th></th>\n",
       "      <th>0</th>\n",
       "    </tr>\n",
       "    <tr>\n",
       "      <th>FECHA_INGRESO</th>\n",
       "      <th></th>\n",
       "    </tr>\n",
       "  </thead>\n",
       "  <tbody>\n",
       "    <tr>\n",
       "      <th>2020-01-01</th>\n",
       "      <td>5</td>\n",
       "    </tr>\n",
       "    <tr>\n",
       "      <th>2020-01-02</th>\n",
       "      <td>16</td>\n",
       "    </tr>\n",
       "    <tr>\n",
       "      <th>2020-01-03</th>\n",
       "      <td>18</td>\n",
       "    </tr>\n",
       "    <tr>\n",
       "      <th>2020-01-04</th>\n",
       "      <td>6</td>\n",
       "    </tr>\n",
       "    <tr>\n",
       "      <th>2020-01-05</th>\n",
       "      <td>14</td>\n",
       "    </tr>\n",
       "    <tr>\n",
       "      <th>...</th>\n",
       "      <td>...</td>\n",
       "    </tr>\n",
       "    <tr>\n",
       "      <th>2020-06-25</th>\n",
       "      <td>5460</td>\n",
       "    </tr>\n",
       "    <tr>\n",
       "      <th>2020-06-26</th>\n",
       "      <td>3081</td>\n",
       "    </tr>\n",
       "    <tr>\n",
       "      <th>2020-06-27</th>\n",
       "      <td>833</td>\n",
       "    </tr>\n",
       "    <tr>\n",
       "      <th>2020-06-28</th>\n",
       "      <td>103</td>\n",
       "    </tr>\n",
       "    <tr>\n",
       "      <th>2020-06-29</th>\n",
       "      <td>16</td>\n",
       "    </tr>\n",
       "  </tbody>\n",
       "</table>\n",
       "<p>181 rows × 1 columns</p>\n",
       "</div>"
      ],
      "text/plain": [
       "                  0\n",
       "FECHA_INGRESO      \n",
       "2020-01-01        5\n",
       "2020-01-02       16\n",
       "2020-01-03       18\n",
       "2020-01-04        6\n",
       "2020-01-05       14\n",
       "...             ...\n",
       "2020-06-25     5460\n",
       "2020-06-26     3081\n",
       "2020-06-27      833\n",
       "2020-06-28      103\n",
       "2020-06-29       16\n",
       "\n",
       "[181 rows x 1 columns]"
      ]
     },
     "execution_count": 10,
     "metadata": {},
     "output_type": "execute_result"
    }
   ],
   "source": [
    "base_prueba=base_covid[base_covid['RESULTADO']!=3] #casos con prueba completa 1 y 2\n",
    "prueba=base_prueba.pivot_table(index=['FECHA_INGRESO'], aggfunc='size') #contamos los casos por dia\n",
    "prueba=pd.DataFrame(prueba)\n",
    "prueba"
   ]
  },
  {
   "cell_type": "code",
   "execution_count": 11,
   "metadata": {},
   "outputs": [
    {
     "data": {
      "text/plain": [
       "<Figure size 432x288 with 0 Axes>"
      ]
     },
     "metadata": {},
     "output_type": "display_data"
    }
   ],
   "source": [
    "percent=positivo/prueba #porcentaje de casos positivos por dia\n",
    "percent=pd.DataFrame(percent) #lo anterior como df\n",
    "idx=pd.date_range(percent.index[0],hoy) #crea un rango de fechas, desde el primero con casos hasta hoy\n",
    "percent=percent.reindex(idx, fill_value=0) #reindexa para tener todas las fechas, las que faltaban valen 0\n",
    "per_avg= percent.iloc[:,0].rolling(window=7).mean()*100 #media movil de 7 dias\n",
    "\n",
    "per_avg.plot()\n",
    "plt.title('Pruebas positivas por día:\\n NACIONAL')\n",
    "plt.legend(['Media móvil 7 días'])\n",
    "#plt.xlabel('Fecha')\n",
    "plt.ylabel('Porcentaje (%)')\n",
    "plt.xlim([datetime.datetime.strptime('2020-26-03','%Y-%d-%m'),hoy])\n",
    "plt.axvspan(corte,hoy,color='r',alpha=0.2)\n",
    "plt.text(corte,np.min(per_avg),'En proceso de reporte',fontsize=10,rotation=90)\n",
    "#plt.gca().xaxis.set_major_formatter(mdates.DateFormatter(''))\n",
    "plt.gca().xaxis.set_major_formatter(mdates.DateFormatter(''))\n",
    "plt.gca().xaxis.set_major_locator(mdates.MonthLocator(interval=12))\n",
    "plt.gca().xaxis.set_minor_formatter(mdates.DateFormatter('%d-%b'))\n",
    "plt.gca().xaxis.set_minor_locator(mdates.WeekdayLocator(byweekday=MO, interval=2))\n",
    "plt.gcf().autofmt_xdate()\n",
    "plt.savefig(path2+'pruebas_pct.png', bbox_inches='tight')\n",
    "plt.clf()"
   ]
  },
  {
   "cell_type": "code",
   "execution_count": 12,
   "metadata": {},
   "outputs": [
    {
     "data": {
      "text/plain": [
       "count    163.000000\n",
       "mean      25.429389\n",
       "std       20.128621\n",
       "min        0.000000\n",
       "25%        1.563621\n",
       "50%       23.822306\n",
       "75%       46.581094\n",
       "max       55.152815\n",
       "Name: 0, dtype: float64"
      ]
     },
     "execution_count": 12,
     "metadata": {},
     "output_type": "execute_result"
    }
   ],
   "source": [
    "per_avg.describe()"
   ]
  },
  {
   "cell_type": "code",
   "execution_count": 13,
   "metadata": {},
   "outputs": [
    {
     "data": {
      "text/html": [
       "<div>\n",
       "<style scoped>\n",
       "    .dataframe tbody tr th:only-of-type {\n",
       "        vertical-align: middle;\n",
       "    }\n",
       "\n",
       "    .dataframe tbody tr th {\n",
       "        vertical-align: top;\n",
       "    }\n",
       "\n",
       "    .dataframe thead th {\n",
       "        text-align: right;\n",
       "    }\n",
       "</style>\n",
       "<table border=\"1\" class=\"dataframe\">\n",
       "  <thead>\n",
       "    <tr style=\"text-align: right;\">\n",
       "      <th></th>\n",
       "      <th>0</th>\n",
       "    </tr>\n",
       "    <tr>\n",
       "      <th>FECHA_INGRESO</th>\n",
       "      <th></th>\n",
       "    </tr>\n",
       "  </thead>\n",
       "  <tbody>\n",
       "    <tr>\n",
       "      <th>2020-01-01</th>\n",
       "      <td>5</td>\n",
       "    </tr>\n",
       "    <tr>\n",
       "      <th>2020-01-02</th>\n",
       "      <td>16</td>\n",
       "    </tr>\n",
       "    <tr>\n",
       "      <th>2020-01-03</th>\n",
       "      <td>18</td>\n",
       "    </tr>\n",
       "    <tr>\n",
       "      <th>2020-01-04</th>\n",
       "      <td>6</td>\n",
       "    </tr>\n",
       "    <tr>\n",
       "      <th>2020-01-05</th>\n",
       "      <td>14</td>\n",
       "    </tr>\n",
       "    <tr>\n",
       "      <th>...</th>\n",
       "      <td>...</td>\n",
       "    </tr>\n",
       "    <tr>\n",
       "      <th>2020-06-24</th>\n",
       "      <td>3623</td>\n",
       "    </tr>\n",
       "    <tr>\n",
       "      <th>2020-06-25</th>\n",
       "      <td>2933</td>\n",
       "    </tr>\n",
       "    <tr>\n",
       "      <th>2020-06-26</th>\n",
       "      <td>1699</td>\n",
       "    </tr>\n",
       "    <tr>\n",
       "      <th>2020-06-27</th>\n",
       "      <td>457</td>\n",
       "    </tr>\n",
       "    <tr>\n",
       "      <th>2020-06-28</th>\n",
       "      <td>47</td>\n",
       "    </tr>\n",
       "  </tbody>\n",
       "</table>\n",
       "<p>180 rows × 1 columns</p>\n",
       "</div>"
      ],
      "text/plain": [
       "                  0\n",
       "FECHA_INGRESO      \n",
       "2020-01-01        5\n",
       "2020-01-02       16\n",
       "2020-01-03       18\n",
       "2020-01-04        6\n",
       "2020-01-05       14\n",
       "...             ...\n",
       "2020-06-24     3623\n",
       "2020-06-25     2933\n",
       "2020-06-26     1699\n",
       "2020-06-27      457\n",
       "2020-06-28       47\n",
       "\n",
       "[180 rows x 1 columns]"
      ]
     },
     "execution_count": 13,
     "metadata": {},
     "output_type": "execute_result"
    }
   ],
   "source": [
    "#Casos negativos, resultado 2\n",
    "base_neg=base_covid[base_covid['RESULTADO']==2] #casos con prueba 2\n",
    "negativo=base_neg.pivot_table(index=['FECHA_INGRESO'], aggfunc='size') #contamos los casos por dia\n",
    "negativo=pd.DataFrame(negativo)\n",
    "negativo"
   ]
  },
  {
   "cell_type": "code",
   "execution_count": 14,
   "metadata": {},
   "outputs": [
    {
     "data": {
      "text/plain": [
       "<Figure size 432x288 with 0 Axes>"
      ]
     },
     "metadata": {},
     "output_type": "display_data"
    }
   ],
   "source": [
    "pos_avg=positivo.iloc[:,0].rolling(window=7).mean()\n",
    "neg_avg=negativo.iloc[:,0].rolling(window=7).mean()\n",
    "\n",
    "plt.title('Pruebas positivas vs Pruebas negativas por día:\\n NACIONAL')\n",
    "ax=pos_avg.plot(label='Positivo')\n",
    "neg_avg.plot(ax=ax,label='Negativo')\n",
    "plt.legend()\n",
    "plt.ylabel('Número de Pruebas')\n",
    "plt.xlabel('Fecha')\n",
    "plt.xlim([datetime.datetime.strptime('2020-26-03','%Y-%d-%m'),hoy])\n",
    "plt.axvspan(corte,hoy,color='r',alpha=0.2)\n",
    "plt.text(corte,np.min(pos_avg),'En proceso de reporte',fontsize=10,rotation=90)\n",
    "plt.gca().xaxis.set_major_formatter(mdates.DateFormatter(''))\n",
    "plt.gca().xaxis.set_major_locator(mdates.MonthLocator(interval=12))\n",
    "plt.gca().xaxis.set_minor_formatter(mdates.DateFormatter('%d-%b'))\n",
    "plt.gca().xaxis.set_minor_locator(mdates.WeekdayLocator(byweekday=MO, interval=2))\n",
    "plt.gcf().autofmt_xdate()\n",
    "plt.savefig(path2+'pruebas_pos_neg.png', bbox_inches='tight')\n",
    "plt.clf()"
   ]
  },
  {
   "cell_type": "code",
   "execution_count": 15,
   "metadata": {},
   "outputs": [
    {
     "data": {
      "text/html": [
       "<div>\n",
       "<style scoped>\n",
       "    .dataframe tbody tr th:only-of-type {\n",
       "        vertical-align: middle;\n",
       "    }\n",
       "\n",
       "    .dataframe tbody tr th {\n",
       "        vertical-align: top;\n",
       "    }\n",
       "\n",
       "    .dataframe thead th {\n",
       "        text-align: right;\n",
       "    }\n",
       "</style>\n",
       "<table border=\"1\" class=\"dataframe\">\n",
       "  <thead>\n",
       "    <tr style=\"text-align: right;\">\n",
       "      <th></th>\n",
       "      <th>ENTIDAD_FEDERATIVA</th>\n",
       "    </tr>\n",
       "  </thead>\n",
       "  <tbody>\n",
       "    <tr>\n",
       "      <th>1</th>\n",
       "      <td>AGUASCALIENTES</td>\n",
       "    </tr>\n",
       "    <tr>\n",
       "      <th>2</th>\n",
       "      <td>BAJA CALIFORNIA</td>\n",
       "    </tr>\n",
       "    <tr>\n",
       "      <th>3</th>\n",
       "      <td>BAJA CALIFORNIA SUR</td>\n",
       "    </tr>\n",
       "    <tr>\n",
       "      <th>4</th>\n",
       "      <td>CAMPECHE</td>\n",
       "    </tr>\n",
       "    <tr>\n",
       "      <th>5</th>\n",
       "      <td>COAHUILA DE ZARAGOZA</td>\n",
       "    </tr>\n",
       "    <tr>\n",
       "      <th>6</th>\n",
       "      <td>COLIMA</td>\n",
       "    </tr>\n",
       "    <tr>\n",
       "      <th>7</th>\n",
       "      <td>CHIAPAS</td>\n",
       "    </tr>\n",
       "    <tr>\n",
       "      <th>8</th>\n",
       "      <td>CHIHUAHUA</td>\n",
       "    </tr>\n",
       "    <tr>\n",
       "      <th>9</th>\n",
       "      <td>CIUDAD DE MÉXICO</td>\n",
       "    </tr>\n",
       "    <tr>\n",
       "      <th>10</th>\n",
       "      <td>DURANGO</td>\n",
       "    </tr>\n",
       "    <tr>\n",
       "      <th>11</th>\n",
       "      <td>GUANAJUATO</td>\n",
       "    </tr>\n",
       "    <tr>\n",
       "      <th>12</th>\n",
       "      <td>GUERRERO</td>\n",
       "    </tr>\n",
       "    <tr>\n",
       "      <th>13</th>\n",
       "      <td>HIDALGO</td>\n",
       "    </tr>\n",
       "    <tr>\n",
       "      <th>14</th>\n",
       "      <td>JALISCO</td>\n",
       "    </tr>\n",
       "    <tr>\n",
       "      <th>15</th>\n",
       "      <td>MÉXICO</td>\n",
       "    </tr>\n",
       "    <tr>\n",
       "      <th>16</th>\n",
       "      <td>MICHOACÁN DE OCAMPO</td>\n",
       "    </tr>\n",
       "    <tr>\n",
       "      <th>17</th>\n",
       "      <td>MORELOS</td>\n",
       "    </tr>\n",
       "    <tr>\n",
       "      <th>18</th>\n",
       "      <td>NAYARIT</td>\n",
       "    </tr>\n",
       "    <tr>\n",
       "      <th>19</th>\n",
       "      <td>NUEVO LEÓN</td>\n",
       "    </tr>\n",
       "    <tr>\n",
       "      <th>20</th>\n",
       "      <td>OAXACA</td>\n",
       "    </tr>\n",
       "    <tr>\n",
       "      <th>21</th>\n",
       "      <td>PUEBLA</td>\n",
       "    </tr>\n",
       "    <tr>\n",
       "      <th>22</th>\n",
       "      <td>QUERÉTARO</td>\n",
       "    </tr>\n",
       "    <tr>\n",
       "      <th>23</th>\n",
       "      <td>QUINTANA ROO</td>\n",
       "    </tr>\n",
       "    <tr>\n",
       "      <th>24</th>\n",
       "      <td>SAN LUIS POTOSÍ</td>\n",
       "    </tr>\n",
       "    <tr>\n",
       "      <th>25</th>\n",
       "      <td>SINALOA</td>\n",
       "    </tr>\n",
       "    <tr>\n",
       "      <th>26</th>\n",
       "      <td>SONORA</td>\n",
       "    </tr>\n",
       "    <tr>\n",
       "      <th>27</th>\n",
       "      <td>TABASCO</td>\n",
       "    </tr>\n",
       "    <tr>\n",
       "      <th>28</th>\n",
       "      <td>TAMAULIPAS</td>\n",
       "    </tr>\n",
       "    <tr>\n",
       "      <th>29</th>\n",
       "      <td>TLAXCALA</td>\n",
       "    </tr>\n",
       "    <tr>\n",
       "      <th>30</th>\n",
       "      <td>VERACRUZ DE IGNACIO DE LA LLAVE</td>\n",
       "    </tr>\n",
       "    <tr>\n",
       "      <th>31</th>\n",
       "      <td>YUCATÁN</td>\n",
       "    </tr>\n",
       "    <tr>\n",
       "      <th>32</th>\n",
       "      <td>ZACATECAS</td>\n",
       "    </tr>\n",
       "  </tbody>\n",
       "</table>\n",
       "</div>"
      ],
      "text/plain": [
       "                 ENTIDAD_FEDERATIVA\n",
       "1                    AGUASCALIENTES\n",
       "2                   BAJA CALIFORNIA\n",
       "3               BAJA CALIFORNIA SUR\n",
       "4                          CAMPECHE\n",
       "5              COAHUILA DE ZARAGOZA\n",
       "6                            COLIMA\n",
       "7                           CHIAPAS\n",
       "8                         CHIHUAHUA\n",
       "9                  CIUDAD DE MÉXICO\n",
       "10                          DURANGO\n",
       "11                       GUANAJUATO\n",
       "12                         GUERRERO\n",
       "13                          HIDALGO\n",
       "14                          JALISCO\n",
       "15                           MÉXICO\n",
       "16              MICHOACÁN DE OCAMPO\n",
       "17                          MORELOS\n",
       "18                          NAYARIT\n",
       "19                       NUEVO LEÓN\n",
       "20                           OAXACA\n",
       "21                           PUEBLA\n",
       "22                        QUERÉTARO\n",
       "23                     QUINTANA ROO\n",
       "24                  SAN LUIS POTOSÍ\n",
       "25                          SINALOA\n",
       "26                           SONORA\n",
       "27                          TABASCO\n",
       "28                       TAMAULIPAS\n",
       "29                         TLAXCALA\n",
       "30  VERACRUZ DE IGNACIO DE LA LLAVE\n",
       "31                          YUCATÁN\n",
       "32                        ZACATECAS"
      ]
     },
     "execution_count": 15,
     "metadata": {},
     "output_type": "execute_result"
    }
   ],
   "source": [
    "# Base de estados y población \n",
    "\n",
    "estados = pd.read_excel(path+'Catalogos_0412.xlsx',sheet_name='Catalogo_entidades') #leemos el excel de estados\n",
    "estados2 = estados.iloc[0:32,1:2] #elegimos los estados y sus numeros\n",
    "estados2.index += 1 #al numero del estado o indice le sumamos 1, opcional\n",
    "estados2"
   ]
  },
  {
   "cell_type": "code",
   "execution_count": 16,
   "metadata": {},
   "outputs": [
    {
     "name": "stderr",
     "output_type": "stream",
     "text": [
      "C:\\Users\\Emilio EG\\AppData\\Roaming\\Python\\Python37\\site-packages\\pandas\\plotting\\_matplotlib\\core.py:338: RuntimeWarning: More than 20 figures have been opened. Figures created through the pyplot interface (`matplotlib.pyplot.figure`) are retained until explicitly closed and may consume too much memory. (To control this warning, see the rcParam `figure.max_open_warning`).\n",
      "  fig = self.plt.figure(figsize=self.figsize)\n"
     ]
    },
    {
     "data": {
      "text/plain": [
       "<Figure size 432x288 with 0 Axes>"
      ]
     },
     "metadata": {},
     "output_type": "display_data"
    },
    {
     "data": {
      "text/plain": [
       "<Figure size 432x288 with 0 Axes>"
      ]
     },
     "metadata": {},
     "output_type": "display_data"
    },
    {
     "data": {
      "text/plain": [
       "<Figure size 432x288 with 0 Axes>"
      ]
     },
     "metadata": {},
     "output_type": "display_data"
    },
    {
     "data": {
      "text/plain": [
       "<Figure size 432x288 with 0 Axes>"
      ]
     },
     "metadata": {},
     "output_type": "display_data"
    },
    {
     "data": {
      "text/plain": [
       "<Figure size 432x288 with 0 Axes>"
      ]
     },
     "metadata": {},
     "output_type": "display_data"
    },
    {
     "data": {
      "text/plain": [
       "<Figure size 432x288 with 0 Axes>"
      ]
     },
     "metadata": {},
     "output_type": "display_data"
    },
    {
     "data": {
      "text/plain": [
       "<Figure size 432x288 with 0 Axes>"
      ]
     },
     "metadata": {},
     "output_type": "display_data"
    },
    {
     "data": {
      "text/plain": [
       "<Figure size 432x288 with 0 Axes>"
      ]
     },
     "metadata": {},
     "output_type": "display_data"
    },
    {
     "data": {
      "text/plain": [
       "<Figure size 432x288 with 0 Axes>"
      ]
     },
     "metadata": {},
     "output_type": "display_data"
    },
    {
     "data": {
      "text/plain": [
       "<Figure size 432x288 with 0 Axes>"
      ]
     },
     "metadata": {},
     "output_type": "display_data"
    },
    {
     "data": {
      "text/plain": [
       "<Figure size 432x288 with 0 Axes>"
      ]
     },
     "metadata": {},
     "output_type": "display_data"
    },
    {
     "data": {
      "text/plain": [
       "<Figure size 432x288 with 0 Axes>"
      ]
     },
     "metadata": {},
     "output_type": "display_data"
    },
    {
     "data": {
      "text/plain": [
       "<Figure size 432x288 with 0 Axes>"
      ]
     },
     "metadata": {},
     "output_type": "display_data"
    },
    {
     "data": {
      "text/plain": [
       "<Figure size 432x288 with 0 Axes>"
      ]
     },
     "metadata": {},
     "output_type": "display_data"
    },
    {
     "data": {
      "text/plain": [
       "<Figure size 432x288 with 0 Axes>"
      ]
     },
     "metadata": {},
     "output_type": "display_data"
    },
    {
     "data": {
      "text/plain": [
       "<Figure size 432x288 with 0 Axes>"
      ]
     },
     "metadata": {},
     "output_type": "display_data"
    },
    {
     "data": {
      "text/plain": [
       "<Figure size 432x288 with 0 Axes>"
      ]
     },
     "metadata": {},
     "output_type": "display_data"
    },
    {
     "data": {
      "text/plain": [
       "<Figure size 432x288 with 0 Axes>"
      ]
     },
     "metadata": {},
     "output_type": "display_data"
    },
    {
     "data": {
      "text/plain": [
       "<Figure size 432x288 with 0 Axes>"
      ]
     },
     "metadata": {},
     "output_type": "display_data"
    },
    {
     "data": {
      "text/plain": [
       "<Figure size 432x288 with 0 Axes>"
      ]
     },
     "metadata": {},
     "output_type": "display_data"
    },
    {
     "data": {
      "text/plain": [
       "<Figure size 432x288 with 0 Axes>"
      ]
     },
     "metadata": {},
     "output_type": "display_data"
    },
    {
     "data": {
      "text/plain": [
       "<Figure size 432x288 with 0 Axes>"
      ]
     },
     "metadata": {},
     "output_type": "display_data"
    },
    {
     "data": {
      "text/plain": [
       "<Figure size 432x288 with 0 Axes>"
      ]
     },
     "metadata": {},
     "output_type": "display_data"
    },
    {
     "data": {
      "text/plain": [
       "<Figure size 432x288 with 0 Axes>"
      ]
     },
     "metadata": {},
     "output_type": "display_data"
    },
    {
     "data": {
      "text/plain": [
       "<Figure size 432x288 with 0 Axes>"
      ]
     },
     "metadata": {},
     "output_type": "display_data"
    },
    {
     "data": {
      "text/plain": [
       "<Figure size 432x288 with 0 Axes>"
      ]
     },
     "metadata": {},
     "output_type": "display_data"
    },
    {
     "data": {
      "text/plain": [
       "<Figure size 432x288 with 0 Axes>"
      ]
     },
     "metadata": {},
     "output_type": "display_data"
    },
    {
     "data": {
      "text/plain": [
       "<Figure size 432x288 with 0 Axes>"
      ]
     },
     "metadata": {},
     "output_type": "display_data"
    },
    {
     "data": {
      "text/plain": [
       "<Figure size 432x288 with 0 Axes>"
      ]
     },
     "metadata": {},
     "output_type": "display_data"
    },
    {
     "data": {
      "text/plain": [
       "<Figure size 432x288 with 0 Axes>"
      ]
     },
     "metadata": {},
     "output_type": "display_data"
    },
    {
     "data": {
      "text/plain": [
       "<Figure size 432x288 with 0 Axes>"
      ]
     },
     "metadata": {},
     "output_type": "display_data"
    },
    {
     "data": {
      "text/plain": [
       "<Figure size 432x288 with 0 Axes>"
      ]
     },
     "metadata": {},
     "output_type": "display_data"
    }
   ],
   "source": [
    "#LETALIDAD POR ESTADO acumulada\n",
    "\n",
    "x = range(1,33)\n",
    "def_cov = {}\n",
    "cuenta={}\n",
    "def_cov2 = {}\n",
    "def_tot = {}\n",
    "cuenta2={}\n",
    "def_tot2= {}\n",
    "letal={}\n",
    "letal2={}\n",
    "\n",
    "for i in x:\n",
    "    def_cov[i]=base_m_cov[base_m_cov['ENTIDAD_UM']==i] #de la base de muertes por covid, selecciona las del estado i\n",
    "    cuenta[i]=def_cov[i].pivot_table(index=['FECHA_DEF'], aggfunc='size') #contamos las muertes por dia por covid del estado i\n",
    "    cuenta[i]=pd.DataFrame(cuenta[i]) #lo anterior como df\n",
    "    idx=pd.date_range(cuenta[i].index[0],hoy)\n",
    "    cuenta[i]=cuenta[i].reindex(idx, fill_value=0)\n",
    "    def_cov2[i]=cuenta[i].cumsum().ffill()\n",
    "    def_tot[i]=base_m_prueba[base_m_prueba['ENTIDAD_UM']==i] #de la base de muertes con prueba, selecciona las del edo i\n",
    "    cuenta2[i]=def_tot[i].pivot_table(index=['FECHA_SINTOMAS'], aggfunc='size') #contamos las muertes por dia del estado i\n",
    "    cuenta2[i]=pd.DataFrame(cuenta2[i]) #lo anterior como df\n",
    "    idx=pd.date_range(cuenta2[i].index[0],hoy)\n",
    "    cuenta2[i]=cuenta2[i].reindex(idx, fill_value=0)\n",
    "    def_tot2[i]=cuenta2[i].cumsum().ffill()\n",
    "    letal[i]=def_cov2[i]/def_tot2[i] #letalidad como muerte 1/ muertes 1 y 2\n",
    "    letal[i]=pd.DataFrame(letal[i]) #lo anterior como df\n",
    "    letal2[i]= letal[i].iloc[:,0].rolling(window=7).mean()*100 #media movil 7 dias\n",
    "    letal2[i]= pd.DataFrame(letal2[i])   #lo pasamos a df\n",
    "    letal2[i].plot()\n",
    "    plt.title('Tasa de letalidad acumulada:\\n' + estados2['ENTIDAD_FEDERATIVA'][i])\n",
    "    #plt.xlabel('Fecha')\n",
    "    plt.ylabel('Tasa en porcentaje (%)')\n",
    "    plt.legend(['Media móvil 7 días'])\n",
    "    plt.xlim([datetime.datetime.strptime('2020-26-03','%Y-%d-%m'),hoy])\n",
    "    plt.axvspan(corte,hoy,color='r',alpha=0.2)\n",
    "    plt.text(corte,np.min(letal2[i]),'En proceso de reporte',fontsize=10,rotation=90)\n",
    "    plt.gca().xaxis.set_major_formatter(mdates.DateFormatter(''))\n",
    "    plt.gca().xaxis.set_major_locator(mdates.MonthLocator(interval=12))\n",
    "    plt.gca().xaxis.set_minor_formatter(mdates.DateFormatter('%d-%b'))\n",
    "    plt.gca().xaxis.set_minor_locator(mdates.WeekdayLocator(byweekday=MO, interval=2))\n",
    "    plt.gcf().autofmt_xdate()\n",
    "    plt.savefig(path2 + 'letalidad_'+ estados2['ENTIDAD_FEDERATIVA'][i] +'.png', bbox_inches='tight')\n",
    "    plt.clf() "
   ]
  },
  {
   "cell_type": "code",
   "execution_count": 17,
   "metadata": {},
   "outputs": [
    {
     "data": {
      "text/plain": [
       "<Figure size 432x288 with 0 Axes>"
      ]
     },
     "metadata": {},
     "output_type": "display_data"
    }
   ],
   "source": [
    "#Valle de Mexico\n",
    "\n",
    "valle1=def_cov2[9]+def_cov2[15]\n",
    "valle2=def_tot2[9]+def_tot2[15]\n",
    "let_val=valle1/valle2\n",
    "let_val2=let_val.iloc[:,0].rolling(window=7).mean()*100\n",
    "let_val2.plot()\n",
    "plt.title('Tasa de letalidad acumulada:\\n VALLE DE MÉXICO')\n",
    "plt.ylabel('Tasa en porcentaje (%)')\n",
    "plt.legend(['Media móvil 7 días'])\n",
    "plt.xlim([datetime.datetime.strptime('2020-26-03','%Y-%d-%m'),hoy])\n",
    "plt.axvspan(corte,hoy,color='r',alpha=0.2)\n",
    "plt.text(corte,np.min(let_val2),'En proceso de reporte',fontsize=10,rotation=90)\n",
    "plt.gca().xaxis.set_major_formatter(mdates.DateFormatter(''))\n",
    "plt.gca().xaxis.set_major_locator(mdates.MonthLocator(interval=12))\n",
    "plt.gca().xaxis.set_minor_formatter(mdates.DateFormatter('%d-%b'))\n",
    "plt.gca().xaxis.set_minor_locator(mdates.WeekdayLocator(byweekday=MO, interval=2))\n",
    "plt.gcf().autofmt_xdate()\n",
    "plt.savefig(path2 + 'letalidad_VALLE.png', bbox_inches='tight')\n",
    "plt.clf() "
   ]
  },
  {
   "cell_type": "code",
   "execution_count": 18,
   "metadata": {},
   "outputs": [
    {
     "data": {
      "text/plain": [
       "<Figure size 432x288 with 0 Axes>"
      ]
     },
     "metadata": {},
     "output_type": "display_data"
    },
    {
     "data": {
      "text/plain": [
       "<Figure size 432x288 with 0 Axes>"
      ]
     },
     "metadata": {},
     "output_type": "display_data"
    },
    {
     "data": {
      "text/plain": [
       "<Figure size 432x288 with 0 Axes>"
      ]
     },
     "metadata": {},
     "output_type": "display_data"
    },
    {
     "data": {
      "text/plain": [
       "<Figure size 432x288 with 0 Axes>"
      ]
     },
     "metadata": {},
     "output_type": "display_data"
    },
    {
     "data": {
      "text/plain": [
       "<Figure size 432x288 with 0 Axes>"
      ]
     },
     "metadata": {},
     "output_type": "display_data"
    },
    {
     "data": {
      "text/plain": [
       "<Figure size 432x288 with 0 Axes>"
      ]
     },
     "metadata": {},
     "output_type": "display_data"
    },
    {
     "data": {
      "text/plain": [
       "<Figure size 432x288 with 0 Axes>"
      ]
     },
     "metadata": {},
     "output_type": "display_data"
    },
    {
     "data": {
      "text/plain": [
       "<Figure size 432x288 with 0 Axes>"
      ]
     },
     "metadata": {},
     "output_type": "display_data"
    },
    {
     "data": {
      "text/plain": [
       "<Figure size 432x288 with 0 Axes>"
      ]
     },
     "metadata": {},
     "output_type": "display_data"
    },
    {
     "data": {
      "text/plain": [
       "<Figure size 432x288 with 0 Axes>"
      ]
     },
     "metadata": {},
     "output_type": "display_data"
    },
    {
     "data": {
      "text/plain": [
       "<Figure size 432x288 with 0 Axes>"
      ]
     },
     "metadata": {},
     "output_type": "display_data"
    },
    {
     "data": {
      "text/plain": [
       "<Figure size 432x288 with 0 Axes>"
      ]
     },
     "metadata": {},
     "output_type": "display_data"
    },
    {
     "data": {
      "text/plain": [
       "<Figure size 432x288 with 0 Axes>"
      ]
     },
     "metadata": {},
     "output_type": "display_data"
    },
    {
     "data": {
      "text/plain": [
       "<Figure size 432x288 with 0 Axes>"
      ]
     },
     "metadata": {},
     "output_type": "display_data"
    },
    {
     "data": {
      "text/plain": [
       "<Figure size 432x288 with 0 Axes>"
      ]
     },
     "metadata": {},
     "output_type": "display_data"
    },
    {
     "data": {
      "text/plain": [
       "<Figure size 432x288 with 0 Axes>"
      ]
     },
     "metadata": {},
     "output_type": "display_data"
    },
    {
     "data": {
      "text/plain": [
       "<Figure size 432x288 with 0 Axes>"
      ]
     },
     "metadata": {},
     "output_type": "display_data"
    },
    {
     "data": {
      "text/plain": [
       "<Figure size 432x288 with 0 Axes>"
      ]
     },
     "metadata": {},
     "output_type": "display_data"
    },
    {
     "data": {
      "text/plain": [
       "<Figure size 432x288 with 0 Axes>"
      ]
     },
     "metadata": {},
     "output_type": "display_data"
    },
    {
     "data": {
      "text/plain": [
       "<Figure size 432x288 with 0 Axes>"
      ]
     },
     "metadata": {},
     "output_type": "display_data"
    },
    {
     "data": {
      "text/plain": [
       "<Figure size 432x288 with 0 Axes>"
      ]
     },
     "metadata": {},
     "output_type": "display_data"
    },
    {
     "data": {
      "text/plain": [
       "<Figure size 432x288 with 0 Axes>"
      ]
     },
     "metadata": {},
     "output_type": "display_data"
    },
    {
     "data": {
      "text/plain": [
       "<Figure size 432x288 with 0 Axes>"
      ]
     },
     "metadata": {},
     "output_type": "display_data"
    },
    {
     "data": {
      "text/plain": [
       "<Figure size 432x288 with 0 Axes>"
      ]
     },
     "metadata": {},
     "output_type": "display_data"
    },
    {
     "data": {
      "text/plain": [
       "<Figure size 432x288 with 0 Axes>"
      ]
     },
     "metadata": {},
     "output_type": "display_data"
    },
    {
     "data": {
      "text/plain": [
       "<Figure size 432x288 with 0 Axes>"
      ]
     },
     "metadata": {},
     "output_type": "display_data"
    },
    {
     "data": {
      "text/plain": [
       "<Figure size 432x288 with 0 Axes>"
      ]
     },
     "metadata": {},
     "output_type": "display_data"
    },
    {
     "data": {
      "text/plain": [
       "<Figure size 432x288 with 0 Axes>"
      ]
     },
     "metadata": {},
     "output_type": "display_data"
    },
    {
     "data": {
      "text/plain": [
       "<Figure size 432x288 with 0 Axes>"
      ]
     },
     "metadata": {},
     "output_type": "display_data"
    },
    {
     "data": {
      "text/plain": [
       "<Figure size 432x288 with 0 Axes>"
      ]
     },
     "metadata": {},
     "output_type": "display_data"
    },
    {
     "data": {
      "text/plain": [
       "<Figure size 432x288 with 0 Axes>"
      ]
     },
     "metadata": {},
     "output_type": "display_data"
    },
    {
     "data": {
      "text/plain": [
       "<Figure size 432x288 with 0 Axes>"
      ]
     },
     "metadata": {},
     "output_type": "display_data"
    },
    {
     "data": {
      "text/plain": [
       "<Figure size 432x288 with 0 Axes>"
      ]
     },
     "metadata": {},
     "output_type": "display_data"
    }
   ],
   "source": [
    "#Ratio pruebas positivo/negativo\n",
    "\n",
    "ratio=positivo/negativo\n",
    "ratio=pd.DataFrame(ratio.fillna(0))\n",
    "ratio2=ratio.iloc[:,0].rolling(window=7).mean()\n",
    "\n",
    "ratio2.plot()\n",
    "plt.title('Pruebas positivas/Pruebas negativas por día: NACIONAL')\n",
    "plt.legend(['Media móvil 7 días'])\n",
    "#plt.xlabel('Fecha')\n",
    "plt.xlim([datetime.datetime.strptime('2020-26-03','%Y-%d-%m'),hoy])\n",
    "plt.axvspan(corte,hoy,color='r',alpha=0.2)\n",
    "plt.text(corte,np.min(ratio2),'En proceso de reporte',fontsize=10,rotation=90)\n",
    "plt.savefig(path2+'ratio.png', bbox_inches='tight')\n",
    "plt.clf()\n",
    "\n",
    "pos={}\n",
    "pos2={}\n",
    "neg={}\n",
    "neg2={}\n",
    "pct={}\n",
    "pct2={}\n",
    "\n",
    "for i in x:\n",
    "    pos[i]=base_positivo[base_positivo['ENTIDAD_UM']==i] #de la base de positivos por covid, selecciona las del estado i\n",
    "    pos2[i]=pos[i].pivot_table(index=['FECHA_INGRESO'], aggfunc='size') #contamos las muertes por dia por covid del estado i\n",
    "    pos2[i]=pd.DataFrame(pos2[i])\n",
    "    idx=pd.date_range(pos2[i].index[0],hoy)\n",
    "    pos2[i]=cuenta[i].reindex(idx, fill_value=0)\n",
    "    #pos2[i]=pos2[i].fillna(0)\n",
    "    neg[i]=base_neg[base_neg['ENTIDAD_UM']==i] #de la base de muertes con prueba, selecciona las del edo i\n",
    "    neg2[i]=neg[i].pivot_table(index=['FECHA_INGRESO'], aggfunc='size') #contamos las muertes por dia del estado i\n",
    "    neg2[i]=pd.DataFrame(neg2[i])\n",
    "    #idx=pd.date_range(neg2[i].index[0],hoy)\n",
    "    #neg2[i]=neg2[i].reindex(idx, fill_value=0)\n",
    "    #neg2[i]=neg2[i].fillna(0)\n",
    "    pct[i]=pos2[i]/neg2[i] #letalidad como muerte 1/ muertes 1 y 2\n",
    "    #idx=pd.date_range(pct[i].index[0],hoy)\n",
    "    #pct[i]=pct[i].reindex(idx, fill_value=0)\n",
    "    pct[i]=pct[i].fillna(0)\n",
    "    pct2[i]= pct[i].iloc[:,0].rolling(window=7).mean() #media movil 7 dias\n",
    "    pct2[i]= pd.DataFrame(pct2[i])   #lo pasamos a df\n",
    "    pct2[i].plot()\n",
    "    plt.title('Pruebas positivas/Pruebas negativas por día:\\n' + estados2['ENTIDAD_FEDERATIVA'][i])\n",
    "    plt.legend(['Media móvil 7 días'])\n",
    "    plt.xlim([datetime.datetime.strptime('2020-26-03','%Y-%d-%m'),hoy])\n",
    "    plt.axvspan(corte,hoy,color='r',alpha=0.2)\n",
    "    plt.text(corte,np.min(pct2[i]),'En proceso de reporte',fontsize=10,rotation=90)\n",
    "    plt.savefig(path2 + 'ratio_'+ estados2['ENTIDAD_FEDERATIVA'][i] +'.png', bbox_inches='tight')\n",
    "    plt.clf() "
   ]
  },
  {
   "cell_type": "code",
   "execution_count": 19,
   "metadata": {},
   "outputs": [
    {
     "data": {
      "text/plain": [
       "<Figure size 432x288 with 0 Axes>"
      ]
     },
     "metadata": {},
     "output_type": "display_data"
    }
   ],
   "source": [
    "#Pruebas Valle de Mexico\n",
    "\n",
    "pos_val=pos2[9]+pos2[15]\n",
    "pos_val=pos_val.fillna(0)\n",
    "neg_val=neg2[9]+neg2[15]\n",
    "neg_val=neg_val.fillna(0)\n",
    "ratio_val=pos_val/neg_val\n",
    "ratio_val2=ratio_val.iloc[:,0].rolling(window=7).mean()\n",
    "\n",
    "ratio_val2.plot()\n",
    "plt.title('Pruebas positivas/Pruebas negativas por día:\\n' + 'VALLE DE MÉXICO')\n",
    "plt.legend(['Media móvil 7 días'])\n",
    "plt.xlim([datetime.datetime.strptime('2020-26-03','%Y-%d-%m'),hoy])\n",
    "plt.axvspan(corte,hoy,color='r',alpha=0.2)\n",
    "plt.text(corte,np.min(pct2[i]),'En proceso de reporte',fontsize=10,rotation=90)\n",
    "plt.savefig(path2 + 'ratio_VALLE.png', bbox_inches='tight')\n",
    "plt.clf()"
   ]
  },
  {
   "cell_type": "code",
   "execution_count": 20,
   "metadata": {},
   "outputs": [
    {
     "data": {
      "text/plain": [
       "<Figure size 432x288 with 0 Axes>"
      ]
     },
     "metadata": {},
     "output_type": "display_data"
    },
    {
     "data": {
      "text/plain": [
       "<Figure size 432x288 with 0 Axes>"
      ]
     },
     "metadata": {},
     "output_type": "display_data"
    },
    {
     "data": {
      "text/plain": [
       "<Figure size 432x288 with 0 Axes>"
      ]
     },
     "metadata": {},
     "output_type": "display_data"
    },
    {
     "data": {
      "text/plain": [
       "<Figure size 432x288 with 0 Axes>"
      ]
     },
     "metadata": {},
     "output_type": "display_data"
    },
    {
     "data": {
      "text/plain": [
       "<Figure size 432x288 with 0 Axes>"
      ]
     },
     "metadata": {},
     "output_type": "display_data"
    },
    {
     "data": {
      "text/plain": [
       "<Figure size 432x288 with 0 Axes>"
      ]
     },
     "metadata": {},
     "output_type": "display_data"
    },
    {
     "data": {
      "text/plain": [
       "<Figure size 432x288 with 0 Axes>"
      ]
     },
     "metadata": {},
     "output_type": "display_data"
    },
    {
     "data": {
      "text/plain": [
       "<Figure size 432x288 with 0 Axes>"
      ]
     },
     "metadata": {},
     "output_type": "display_data"
    },
    {
     "data": {
      "text/plain": [
       "<Figure size 432x288 with 0 Axes>"
      ]
     },
     "metadata": {},
     "output_type": "display_data"
    },
    {
     "data": {
      "text/plain": [
       "<Figure size 432x288 with 0 Axes>"
      ]
     },
     "metadata": {},
     "output_type": "display_data"
    },
    {
     "data": {
      "text/plain": [
       "<Figure size 432x288 with 0 Axes>"
      ]
     },
     "metadata": {},
     "output_type": "display_data"
    },
    {
     "data": {
      "text/plain": [
       "<Figure size 432x288 with 0 Axes>"
      ]
     },
     "metadata": {},
     "output_type": "display_data"
    },
    {
     "data": {
      "text/plain": [
       "<Figure size 432x288 with 0 Axes>"
      ]
     },
     "metadata": {},
     "output_type": "display_data"
    },
    {
     "data": {
      "text/plain": [
       "<Figure size 432x288 with 0 Axes>"
      ]
     },
     "metadata": {},
     "output_type": "display_data"
    },
    {
     "data": {
      "text/plain": [
       "<Figure size 432x288 with 0 Axes>"
      ]
     },
     "metadata": {},
     "output_type": "display_data"
    },
    {
     "data": {
      "text/plain": [
       "<Figure size 432x288 with 0 Axes>"
      ]
     },
     "metadata": {},
     "output_type": "display_data"
    },
    {
     "data": {
      "text/plain": [
       "<Figure size 432x288 with 0 Axes>"
      ]
     },
     "metadata": {},
     "output_type": "display_data"
    },
    {
     "data": {
      "text/plain": [
       "<Figure size 432x288 with 0 Axes>"
      ]
     },
     "metadata": {},
     "output_type": "display_data"
    },
    {
     "data": {
      "text/plain": [
       "<Figure size 432x288 with 0 Axes>"
      ]
     },
     "metadata": {},
     "output_type": "display_data"
    },
    {
     "data": {
      "text/plain": [
       "<Figure size 432x288 with 0 Axes>"
      ]
     },
     "metadata": {},
     "output_type": "display_data"
    },
    {
     "data": {
      "text/plain": [
       "<Figure size 432x288 with 0 Axes>"
      ]
     },
     "metadata": {},
     "output_type": "display_data"
    },
    {
     "data": {
      "text/plain": [
       "<Figure size 432x288 with 0 Axes>"
      ]
     },
     "metadata": {},
     "output_type": "display_data"
    },
    {
     "data": {
      "text/plain": [
       "<Figure size 432x288 with 0 Axes>"
      ]
     },
     "metadata": {},
     "output_type": "display_data"
    },
    {
     "data": {
      "text/plain": [
       "<Figure size 432x288 with 0 Axes>"
      ]
     },
     "metadata": {},
     "output_type": "display_data"
    },
    {
     "data": {
      "text/plain": [
       "<Figure size 432x288 with 0 Axes>"
      ]
     },
     "metadata": {},
     "output_type": "display_data"
    },
    {
     "data": {
      "text/plain": [
       "<Figure size 432x288 with 0 Axes>"
      ]
     },
     "metadata": {},
     "output_type": "display_data"
    },
    {
     "data": {
      "text/plain": [
       "<Figure size 432x288 with 0 Axes>"
      ]
     },
     "metadata": {},
     "output_type": "display_data"
    },
    {
     "data": {
      "text/plain": [
       "<Figure size 432x288 with 0 Axes>"
      ]
     },
     "metadata": {},
     "output_type": "display_data"
    },
    {
     "data": {
      "text/plain": [
       "<Figure size 432x288 with 0 Axes>"
      ]
     },
     "metadata": {},
     "output_type": "display_data"
    },
    {
     "data": {
      "text/plain": [
       "<Figure size 432x288 with 0 Axes>"
      ]
     },
     "metadata": {},
     "output_type": "display_data"
    },
    {
     "data": {
      "text/plain": [
       "<Figure size 432x288 with 0 Axes>"
      ]
     },
     "metadata": {},
     "output_type": "display_data"
    },
    {
     "data": {
      "text/plain": [
       "<Figure size 432x288 with 0 Axes>"
      ]
     },
     "metadata": {},
     "output_type": "display_data"
    },
    {
     "data": {
      "text/plain": [
       "<Figure size 432x288 with 0 Axes>"
      ]
     },
     "metadata": {},
     "output_type": "display_data"
    }
   ],
   "source": [
    "#Letalidad dia a dia\n",
    "nac=cuenta_cov/cuenta_todo\n",
    "nac2=nac.iloc[:,0].rolling(window=7).mean()*100\n",
    "nac2.plot()\n",
    "plt.title('Tasa de letalidad diaria: NACIONAL')\n",
    "plt.legend(['Media móvil 7 días'])\n",
    "#plt.xlabel('Fecha')\n",
    "plt.ylabel('Tasa en porcentaje (%)')\n",
    "plt.xlim([datetime.datetime.strptime('2020-26-03','%Y-%d-%m'),hoy])\n",
    "plt.ylim([0,100])\n",
    "plt.axvspan(corte,hoy,color='r',alpha=0.2)\n",
    "plt.text(corte,np.min(let_avg),'En proceso de reporte',fontsize=10,rotation=90)\n",
    "plt.savefig(path2+'letalidad_dia.png', bbox_inches='tight')\n",
    "plt.clf()\n",
    "\n",
    "var={}\n",
    "var2={}\n",
    "\n",
    "for i in x:\n",
    "    var[i]=cuenta[i]/cuenta2[i]\n",
    "    idx=pd.date_range(var[i].index[0],hoy)\n",
    "    var[i]=var[i].reindex(idx, fill_value=0)\n",
    "    #var[i]=var[i].fillna(0)\n",
    "    var2[i]=var[i].iloc[:,0].rolling(window=7).mean()*100\n",
    "    var2[i]=pd.DataFrame(var2[i])\n",
    "    #var2[i]=var2[i].fillna(0)\n",
    "    var2[i].plot()\n",
    "    plt.title('Tasa de letalidad diaria: ' + estados2['ENTIDAD_FEDERATIVA'][i])\n",
    "    plt.ylabel('Tasa en porcentaje (%)')\n",
    "    plt.legend(['Media móvil 7 días'])\n",
    "    plt.xlim([datetime.datetime.strptime('2020-26-03','%Y-%d-%m'),hoy])\n",
    "    plt.ylim([0,100])\n",
    "    plt.axvspan(corte,hoy,color='r',alpha=0.2)\n",
    "    plt.text(corte,np.min(var2[i]),'En proceso de reporte',fontsize=10,rotation=90)\n",
    "    plt.savefig(path2 + 'letalidad_dia_'+ estados2['ENTIDAD_FEDERATIVA'][i] +'.png', bbox_inches='tight')\n",
    "    plt.clf()"
   ]
  },
  {
   "cell_type": "code",
   "execution_count": 5,
   "metadata": {},
   "outputs": [
    {
     "data": {
      "text/html": [
       "<div>\n",
       "<style scoped>\n",
       "    .dataframe tbody tr th:only-of-type {\n",
       "        vertical-align: middle;\n",
       "    }\n",
       "\n",
       "    .dataframe tbody tr th {\n",
       "        vertical-align: top;\n",
       "    }\n",
       "\n",
       "    .dataframe thead th {\n",
       "        text-align: right;\n",
       "    }\n",
       "</style>\n",
       "<table border=\"1\" class=\"dataframe\">\n",
       "  <thead>\n",
       "    <tr style=\"text-align: right;\">\n",
       "      <th></th>\n",
       "      <th>iso_code</th>\n",
       "      <th>continent</th>\n",
       "      <th>location</th>\n",
       "      <th>date</th>\n",
       "      <th>total_cases</th>\n",
       "      <th>new_cases</th>\n",
       "      <th>total_deaths</th>\n",
       "      <th>new_deaths</th>\n",
       "      <th>total_cases_per_million</th>\n",
       "      <th>new_cases_per_million</th>\n",
       "      <th>...</th>\n",
       "      <th>aged_70_older</th>\n",
       "      <th>gdp_per_capita</th>\n",
       "      <th>extreme_poverty</th>\n",
       "      <th>cvd_death_rate</th>\n",
       "      <th>diabetes_prevalence</th>\n",
       "      <th>female_smokers</th>\n",
       "      <th>male_smokers</th>\n",
       "      <th>handwashing_facilities</th>\n",
       "      <th>hospital_beds_per_thousand</th>\n",
       "      <th>life_expectancy</th>\n",
       "    </tr>\n",
       "  </thead>\n",
       "  <tbody>\n",
       "    <tr>\n",
       "      <th>171</th>\n",
       "      <td>AFG</td>\n",
       "      <td>Asia</td>\n",
       "      <td>Afghanistan</td>\n",
       "      <td>2020-06-29</td>\n",
       "      <td>30967.0</td>\n",
       "      <td>351.0</td>\n",
       "      <td>721.0</td>\n",
       "      <td>18.0</td>\n",
       "      <td>795.487</td>\n",
       "      <td>9.017</td>\n",
       "      <td>...</td>\n",
       "      <td>1.337</td>\n",
       "      <td>1803.987</td>\n",
       "      <td>NaN</td>\n",
       "      <td>597.029</td>\n",
       "      <td>9.59</td>\n",
       "      <td>NaN</td>\n",
       "      <td>NaN</td>\n",
       "      <td>37.746</td>\n",
       "      <td>0.50</td>\n",
       "      <td>64.83</td>\n",
       "    </tr>\n",
       "    <tr>\n",
       "      <th>284</th>\n",
       "      <td>ALB</td>\n",
       "      <td>Europe</td>\n",
       "      <td>Albania</td>\n",
       "      <td>2020-06-29</td>\n",
       "      <td>2402.0</td>\n",
       "      <td>72.0</td>\n",
       "      <td>55.0</td>\n",
       "      <td>2.0</td>\n",
       "      <td>834.665</td>\n",
       "      <td>25.019</td>\n",
       "      <td>...</td>\n",
       "      <td>8.643</td>\n",
       "      <td>11803.431</td>\n",
       "      <td>1.1</td>\n",
       "      <td>304.195</td>\n",
       "      <td>10.08</td>\n",
       "      <td>7.1</td>\n",
       "      <td>51.2</td>\n",
       "      <td>NaN</td>\n",
       "      <td>2.89</td>\n",
       "      <td>78.57</td>\n",
       "    </tr>\n",
       "    <tr>\n",
       "      <th>461</th>\n",
       "      <td>DZA</td>\n",
       "      <td>Africa</td>\n",
       "      <td>Algeria</td>\n",
       "      <td>2020-06-29</td>\n",
       "      <td>13273.0</td>\n",
       "      <td>305.0</td>\n",
       "      <td>897.0</td>\n",
       "      <td>5.0</td>\n",
       "      <td>302.684</td>\n",
       "      <td>6.955</td>\n",
       "      <td>...</td>\n",
       "      <td>3.857</td>\n",
       "      <td>13913.839</td>\n",
       "      <td>0.5</td>\n",
       "      <td>278.364</td>\n",
       "      <td>6.73</td>\n",
       "      <td>0.7</td>\n",
       "      <td>30.4</td>\n",
       "      <td>83.741</td>\n",
       "      <td>1.90</td>\n",
       "      <td>76.88</td>\n",
       "    </tr>\n",
       "    <tr>\n",
       "      <th>569</th>\n",
       "      <td>AND</td>\n",
       "      <td>Europe</td>\n",
       "      <td>Andorra</td>\n",
       "      <td>2020-06-29</td>\n",
       "      <td>855.0</td>\n",
       "      <td>0.0</td>\n",
       "      <td>52.0</td>\n",
       "      <td>0.0</td>\n",
       "      <td>11065.812</td>\n",
       "      <td>0.000</td>\n",
       "      <td>...</td>\n",
       "      <td>NaN</td>\n",
       "      <td>NaN</td>\n",
       "      <td>NaN</td>\n",
       "      <td>109.135</td>\n",
       "      <td>7.97</td>\n",
       "      <td>29.0</td>\n",
       "      <td>37.8</td>\n",
       "      <td>NaN</td>\n",
       "      <td>NaN</td>\n",
       "      <td>83.73</td>\n",
       "    </tr>\n",
       "    <tr>\n",
       "      <th>669</th>\n",
       "      <td>AGO</td>\n",
       "      <td>Africa</td>\n",
       "      <td>Angola</td>\n",
       "      <td>2020-06-29</td>\n",
       "      <td>267.0</td>\n",
       "      <td>23.0</td>\n",
       "      <td>11.0</td>\n",
       "      <td>1.0</td>\n",
       "      <td>8.124</td>\n",
       "      <td>0.700</td>\n",
       "      <td>...</td>\n",
       "      <td>1.362</td>\n",
       "      <td>5819.495</td>\n",
       "      <td>NaN</td>\n",
       "      <td>276.045</td>\n",
       "      <td>3.94</td>\n",
       "      <td>NaN</td>\n",
       "      <td>NaN</td>\n",
       "      <td>26.664</td>\n",
       "      <td>NaN</td>\n",
       "      <td>61.15</td>\n",
       "    </tr>\n",
       "  </tbody>\n",
       "</table>\n",
       "<p>5 rows × 34 columns</p>\n",
       "</div>"
      ],
      "text/plain": [
       "    iso_code continent     location       date  total_cases  new_cases  \\\n",
       "171      AFG      Asia  Afghanistan 2020-06-29      30967.0      351.0   \n",
       "284      ALB    Europe      Albania 2020-06-29       2402.0       72.0   \n",
       "461      DZA    Africa      Algeria 2020-06-29      13273.0      305.0   \n",
       "569      AND    Europe      Andorra 2020-06-29        855.0        0.0   \n",
       "669      AGO    Africa       Angola 2020-06-29        267.0       23.0   \n",
       "\n",
       "     total_deaths  new_deaths  total_cases_per_million  new_cases_per_million  \\\n",
       "171         721.0        18.0                  795.487                  9.017   \n",
       "284          55.0         2.0                  834.665                 25.019   \n",
       "461         897.0         5.0                  302.684                  6.955   \n",
       "569          52.0         0.0                11065.812                  0.000   \n",
       "669          11.0         1.0                    8.124                  0.700   \n",
       "\n",
       "     ...  aged_70_older  gdp_per_capita  extreme_poverty  cvd_death_rate  \\\n",
       "171  ...          1.337        1803.987              NaN         597.029   \n",
       "284  ...          8.643       11803.431              1.1         304.195   \n",
       "461  ...          3.857       13913.839              0.5         278.364   \n",
       "569  ...            NaN             NaN              NaN         109.135   \n",
       "669  ...          1.362        5819.495              NaN         276.045   \n",
       "\n",
       "     diabetes_prevalence  female_smokers  male_smokers  \\\n",
       "171                 9.59             NaN           NaN   \n",
       "284                10.08             7.1          51.2   \n",
       "461                 6.73             0.7          30.4   \n",
       "569                 7.97            29.0          37.8   \n",
       "669                 3.94             NaN           NaN   \n",
       "\n",
       "     handwashing_facilities hospital_beds_per_thousand  life_expectancy  \n",
       "171                  37.746                       0.50            64.83  \n",
       "284                     NaN                       2.89            78.57  \n",
       "461                  83.741                       1.90            76.88  \n",
       "569                     NaN                        NaN            83.73  \n",
       "669                  26.664                        NaN            61.15  \n",
       "\n",
       "[5 rows x 34 columns]"
      ]
     },
     "execution_count": 5,
     "metadata": {},
     "output_type": "execute_result"
    }
   ],
   "source": [
    "internacional=pd.read_csv(path+'owid-covid-data.csv')\n",
    "\n",
    "internacional['date']=pd.to_datetime(internacional['date'])\n",
    "base_comp=internacional[internacional['date']==hoy]\n",
    "\n",
    "base_comp.head()"
   ]
  },
  {
   "cell_type": "code",
   "execution_count": 6,
   "metadata": {},
   "outputs": [
    {
     "data": {
      "text/html": [
       "<div>\n",
       "<style scoped>\n",
       "    .dataframe tbody tr th:only-of-type {\n",
       "        vertical-align: middle;\n",
       "    }\n",
       "\n",
       "    .dataframe tbody tr th {\n",
       "        vertical-align: top;\n",
       "    }\n",
       "\n",
       "    .dataframe thead th {\n",
       "        text-align: right;\n",
       "    }\n",
       "</style>\n",
       "<table border=\"1\" class=\"dataframe\">\n",
       "  <thead>\n",
       "    <tr style=\"text-align: right;\">\n",
       "      <th></th>\n",
       "      <th>Letalidad</th>\n",
       "    </tr>\n",
       "  </thead>\n",
       "  <tbody>\n",
       "    <tr>\n",
       "      <th>MEX</th>\n",
       "      <td>NaN</td>\n",
       "    </tr>\n",
       "    <tr>\n",
       "      <th>EUA</th>\n",
       "      <td>NaN</td>\n",
       "    </tr>\n",
       "    <tr>\n",
       "      <th>CAN</th>\n",
       "      <td>NaN</td>\n",
       "    </tr>\n",
       "    <tr>\n",
       "      <th>BRA</th>\n",
       "      <td>NaN</td>\n",
       "    </tr>\n",
       "    <tr>\n",
       "      <th>ARG</th>\n",
       "      <td>NaN</td>\n",
       "    </tr>\n",
       "    <tr>\n",
       "      <th>COL</th>\n",
       "      <td>NaN</td>\n",
       "    </tr>\n",
       "    <tr>\n",
       "      <th>R.U.</th>\n",
       "      <td>NaN</td>\n",
       "    </tr>\n",
       "    <tr>\n",
       "      <th>FRA</th>\n",
       "      <td>NaN</td>\n",
       "    </tr>\n",
       "    <tr>\n",
       "      <th>ITA</th>\n",
       "      <td>NaN</td>\n",
       "    </tr>\n",
       "    <tr>\n",
       "      <th>ALE</th>\n",
       "      <td>NaN</td>\n",
       "    </tr>\n",
       "    <tr>\n",
       "      <th>COR</th>\n",
       "      <td>NaN</td>\n",
       "    </tr>\n",
       "    <tr>\n",
       "      <th>JPN</th>\n",
       "      <td>NaN</td>\n",
       "    </tr>\n",
       "    <tr>\n",
       "      <th>CHN</th>\n",
       "      <td>NaN</td>\n",
       "    </tr>\n",
       "    <tr>\n",
       "      <th>TWN</th>\n",
       "      <td>NaN</td>\n",
       "    </tr>\n",
       "  </tbody>\n",
       "</table>\n",
       "</div>"
      ],
      "text/plain": [
       "     Letalidad\n",
       "MEX        NaN\n",
       "EUA        NaN\n",
       "CAN        NaN\n",
       "BRA        NaN\n",
       "ARG        NaN\n",
       "COL        NaN\n",
       "R.U.       NaN\n",
       "FRA        NaN\n",
       "ITA        NaN\n",
       "ALE        NaN\n",
       "COR        NaN\n",
       "JPN        NaN\n",
       "CHN        NaN\n",
       "TWN        NaN"
      ]
     },
     "execution_count": 6,
     "metadata": {},
     "output_type": "execute_result"
    }
   ],
   "source": [
    "paises = ['MEX','USA','CAN','BRA','ARG','COL','GBR','FRA','ITA','DEU','KOR','JPN','CHN','TWN']\n",
    "paisesl=['MEX','EUA','CAN','BRA','ARG','COL','R.U.','FRA','ITA','ALE','COR','JPN','CHN','TWN']\n",
    "comparacion=pd.DataFrame(index = paisesl, columns=['Letalidad'])\n",
    "comparacion"
   ]
  },
  {
   "cell_type": "code",
   "execution_count": 7,
   "metadata": {},
   "outputs": [],
   "source": [
    "for p in range(len(paises)):\n",
    "    cases=base_comp['total_cases'][base_comp['iso_code']==paises[p]].values\n",
    "    deaths=base_comp['total_deaths'][base_comp['iso_code']==paises[p]].values\n",
    "    comparacion.loc[paisesl[p]]=deaths[0]/cases[0] *100"
   ]
  },
  {
   "cell_type": "code",
   "execution_count": 25,
   "metadata": {},
   "outputs": [
    {
     "data": {
      "text/plain": [
       "<Figure size 432x288 with 0 Axes>"
      ]
     },
     "metadata": {},
     "output_type": "display_data"
    }
   ],
   "source": [
    "comparacion.plot.bar()\n",
    "plt.title('Comparación de letalidad entre algunos países')\n",
    "plt.ylabel('Tasa en porcentaje (%)')\n",
    "plt.legend(['Letalidad acumulada'])\n",
    "plt.savefig(path2 + 'letalidad_internacional.png', bbox_inches='tight')\n",
    "plt.clf()"
   ]
  },
  {
   "cell_type": "code",
   "execution_count": 8,
   "metadata": {},
   "outputs": [
    {
     "data": {
      "text/plain": [
       "Text(0.5, 1.0, 'Pruebas por 100 mil habs. al 23 de junio')"
      ]
     },
     "execution_count": 8,
     "metadata": {},
     "output_type": "execute_result"
    },
    {
     "data": {
      "image/png": "[encoded data removed]",
      "text/plain": [
       "<Figure size 432x288 with 1 Axes>"
      ]
     },
     "metadata": {
      "needs_background": "light"
     },
     "output_type": "display_data"
    }
   ],
   "source": [
    "#Pruebas totales\n",
    "\n",
    "paises = ['MEX','USA','CAN','BRA','ARG','COL','GBR','FRA','ITA','DEU','KOR','JPN','CHN','TWN']\n",
    "paisesl=['MEX','EUA','CAN','BRA','ARG','COL','R.U.','FRA','ITA','ALE','COR','JPN','CHN','TWN']\n",
    "\n",
    "base_test=internacional[internacional['date']==datetime.datetime.strptime('2020-23-06','%Y-%d-%m')]\n",
    "\n",
    "tests=pd.DataFrame(index = paisesl, columns=['Pruebas totales'])\n",
    "\n",
    "for p in range(len(paises)):\n",
    "    tst=base_test['total_tests_per_thousand'][base_test['iso_code']==paises[p]].values\n",
    "    tests.loc[paisesl[p]]=tst[0]*100\n",
    "    \n",
    "tests=tests.dropna()\n",
    "\n",
    "tests.plot.bar()\n",
    "plt.title('Pruebas por 100 mil habs. al 23 de junio')\n",
    "#plt.savefig(path2 + 'pruebas_internacional.png', bbox_inches='tight')\n",
    "#plt.clf()"
   ]
  },
  {
   "cell_type": "code",
   "execution_count": 10,
   "metadata": {},
   "outputs": [
    {
     "data": {
      "text/html": [
       "<div>\n",
       "<style scoped>\n",
       "    .dataframe tbody tr th:only-of-type {\n",
       "        vertical-align: middle;\n",
       "    }\n",
       "\n",
       "    .dataframe tbody tr th {\n",
       "        vertical-align: top;\n",
       "    }\n",
       "\n",
       "    .dataframe thead th {\n",
       "        text-align: right;\n",
       "    }\n",
       "</style>\n",
       "<table border=\"1\" class=\"dataframe\">\n",
       "  <thead>\n",
       "    <tr style=\"text-align: right;\">\n",
       "      <th></th>\n",
       "      <th>Pruebas totales</th>\n",
       "    </tr>\n",
       "  </thead>\n",
       "  <tbody>\n",
       "    <tr>\n",
       "      <th>MEX</th>\n",
       "      <td>372.8</td>\n",
       "    </tr>\n",
       "    <tr>\n",
       "      <th>EUA</th>\n",
       "      <td>8476.6</td>\n",
       "    </tr>\n",
       "    <tr>\n",
       "      <th>CAN</th>\n",
       "      <td>6475.6</td>\n",
       "    </tr>\n",
       "    <tr>\n",
       "      <th>ARG</th>\n",
       "      <td>647.2</td>\n",
       "    </tr>\n",
       "    <tr>\n",
       "      <th>COL</th>\n",
       "      <td>1247.2</td>\n",
       "    </tr>\n",
       "    <tr>\n",
       "      <th>R.U.</th>\n",
       "      <td>6571.8</td>\n",
       "    </tr>\n",
       "    <tr>\n",
       "      <th>ITA</th>\n",
       "      <td>8358.7</td>\n",
       "    </tr>\n",
       "    <tr>\n",
       "      <th>COR</th>\n",
       "      <td>2289.4</td>\n",
       "    </tr>\n",
       "    <tr>\n",
       "      <th>JPN</th>\n",
       "      <td>335.8</td>\n",
       "    </tr>\n",
       "    <tr>\n",
       "      <th>TWN</th>\n",
       "      <td>317.6</td>\n",
       "    </tr>\n",
       "  </tbody>\n",
       "</table>\n",
       "</div>"
      ],
      "text/plain": [
       "     Pruebas totales\n",
       "MEX            372.8\n",
       "EUA           8476.6\n",
       "CAN           6475.6\n",
       "ARG            647.2\n",
       "COL           1247.2\n",
       "R.U.          6571.8\n",
       "ITA           8358.7\n",
       "COR           2289.4\n",
       "JPN            335.8\n",
       "TWN            317.6"
      ]
     },
     "execution_count": 10,
     "metadata": {},
     "output_type": "execute_result"
    }
   ],
   "source": [
    "tests"
   ]
  },
  {
   "cell_type": "code",
   "execution_count": 32,
   "metadata": {},
   "outputs": [
    {
     "data": {
      "text/html": [
       "<div>\n",
       "<style scoped>\n",
       "    .dataframe tbody tr th:only-of-type {\n",
       "        vertical-align: middle;\n",
       "    }\n",
       "\n",
       "    .dataframe tbody tr th {\n",
       "        vertical-align: top;\n",
       "    }\n",
       "\n",
       "    .dataframe thead th {\n",
       "        text-align: right;\n",
       "    }\n",
       "</style>\n",
       "<table border=\"1\" class=\"dataframe\">\n",
       "  <thead>\n",
       "    <tr style=\"text-align: right;\">\n",
       "      <th></th>\n",
       "      <th>ESTADOS</th>\n",
       "      <th>LET</th>\n",
       "    </tr>\n",
       "  </thead>\n",
       "  <tbody>\n",
       "    <tr>\n",
       "      <th>0</th>\n",
       "      <td>Aguascalientes</td>\n",
       "      <td>5.14</td>\n",
       "    </tr>\n",
       "    <tr>\n",
       "      <th>1</th>\n",
       "      <td>Baja California</td>\n",
       "      <td>20.25</td>\n",
       "    </tr>\n",
       "    <tr>\n",
       "      <th>2</th>\n",
       "      <td>Baja California Sur</td>\n",
       "      <td>5.03</td>\n",
       "    </tr>\n",
       "    <tr>\n",
       "      <th>3</th>\n",
       "      <td>Campeche</td>\n",
       "      <td>8.61</td>\n",
       "    </tr>\n",
       "    <tr>\n",
       "      <th>4</th>\n",
       "      <td>Coahuila</td>\n",
       "      <td>4.95</td>\n",
       "    </tr>\n",
       "    <tr>\n",
       "      <th>5</th>\n",
       "      <td>Colima</td>\n",
       "      <td>10.39</td>\n",
       "    </tr>\n",
       "    <tr>\n",
       "      <th>6</th>\n",
       "      <td>Chiapas</td>\n",
       "      <td>9.72</td>\n",
       "    </tr>\n",
       "    <tr>\n",
       "      <th>7</th>\n",
       "      <td>Chihuahua</td>\n",
       "      <td>19.32</td>\n",
       "    </tr>\n",
       "    <tr>\n",
       "      <th>8</th>\n",
       "      <td>Durango</td>\n",
       "      <td>10.43</td>\n",
       "    </tr>\n",
       "    <tr>\n",
       "      <th>9</th>\n",
       "      <td>Guanajuato</td>\n",
       "      <td>6.99</td>\n",
       "    </tr>\n",
       "    <tr>\n",
       "      <th>10</th>\n",
       "      <td>Guerrero</td>\n",
       "      <td>4.45</td>\n",
       "    </tr>\n",
       "    <tr>\n",
       "      <th>11</th>\n",
       "      <td>Hidalgo</td>\n",
       "      <td>15.40</td>\n",
       "    </tr>\n",
       "    <tr>\n",
       "      <th>12</th>\n",
       "      <td>Jalisco</td>\n",
       "      <td>16.05</td>\n",
       "    </tr>\n",
       "    <tr>\n",
       "      <th>13</th>\n",
       "      <td>Mexico</td>\n",
       "      <td>7.58</td>\n",
       "    </tr>\n",
       "    <tr>\n",
       "      <th>14</th>\n",
       "      <td>Mexico City</td>\n",
       "      <td>16.31</td>\n",
       "    </tr>\n",
       "    <tr>\n",
       "      <th>15</th>\n",
       "      <td>Michoacán</td>\n",
       "      <td>6.57</td>\n",
       "    </tr>\n",
       "    <tr>\n",
       "      <th>16</th>\n",
       "      <td>Morelos</td>\n",
       "      <td>24.00</td>\n",
       "    </tr>\n",
       "    <tr>\n",
       "      <th>17</th>\n",
       "      <td>Nayarit</td>\n",
       "      <td>10.16</td>\n",
       "    </tr>\n",
       "    <tr>\n",
       "      <th>18</th>\n",
       "      <td>Nuevo León</td>\n",
       "      <td>4.87</td>\n",
       "    </tr>\n",
       "    <tr>\n",
       "      <th>19</th>\n",
       "      <td>Oaxaca</td>\n",
       "      <td>9.56</td>\n",
       "    </tr>\n",
       "    <tr>\n",
       "      <th>20</th>\n",
       "      <td>Puebla</td>\n",
       "      <td>11.47</td>\n",
       "    </tr>\n",
       "    <tr>\n",
       "      <th>21</th>\n",
       "      <td>Querétaro</td>\n",
       "      <td>12.08</td>\n",
       "    </tr>\n",
       "    <tr>\n",
       "      <th>22</th>\n",
       "      <td>Quintana Roo</td>\n",
       "      <td>17.27</td>\n",
       "    </tr>\n",
       "    <tr>\n",
       "      <th>23</th>\n",
       "      <td>San Luis Potosi</td>\n",
       "      <td>4.44</td>\n",
       "    </tr>\n",
       "    <tr>\n",
       "      <th>24</th>\n",
       "      <td>Sinaloa</td>\n",
       "      <td>13.42</td>\n",
       "    </tr>\n",
       "    <tr>\n",
       "      <th>25</th>\n",
       "      <td>Sonora</td>\n",
       "      <td>7.61</td>\n",
       "    </tr>\n",
       "    <tr>\n",
       "      <th>26</th>\n",
       "      <td>Tabasco</td>\n",
       "      <td>9.45</td>\n",
       "    </tr>\n",
       "    <tr>\n",
       "      <th>27</th>\n",
       "      <td>Tamaulipas</td>\n",
       "      <td>5.38</td>\n",
       "    </tr>\n",
       "    <tr>\n",
       "      <th>28</th>\n",
       "      <td>Tlaxcala</td>\n",
       "      <td>13.59</td>\n",
       "    </tr>\n",
       "    <tr>\n",
       "      <th>29</th>\n",
       "      <td>Veracruz</td>\n",
       "      <td>14.71</td>\n",
       "    </tr>\n",
       "    <tr>\n",
       "      <th>30</th>\n",
       "      <td>Yucatán</td>\n",
       "      <td>9.63</td>\n",
       "    </tr>\n",
       "    <tr>\n",
       "      <th>31</th>\n",
       "      <td>Zacatecas</td>\n",
       "      <td>9.96</td>\n",
       "    </tr>\n",
       "  </tbody>\n",
       "</table>\n",
       "</div>"
      ],
      "text/plain": [
       "                ESTADOS    LET\n",
       "0        Aguascalientes   5.14\n",
       "1       Baja California  20.25\n",
       "2   Baja California Sur   5.03\n",
       "3              Campeche   8.61\n",
       "4              Coahuila   4.95\n",
       "5                Colima  10.39\n",
       "6               Chiapas   9.72\n",
       "7             Chihuahua  19.32\n",
       "8               Durango  10.43\n",
       "9            Guanajuato   6.99\n",
       "10             Guerrero   4.45\n",
       "11              Hidalgo  15.40\n",
       "12              Jalisco  16.05\n",
       "13               Mexico   7.58\n",
       "14          Mexico City  16.31\n",
       "15            Michoacán   6.57\n",
       "16              Morelos  24.00\n",
       "17              Nayarit  10.16\n",
       "18           Nuevo León   4.87\n",
       "19               Oaxaca   9.56\n",
       "20               Puebla  11.47\n",
       "21            Querétaro  12.08\n",
       "22         Quintana Roo  17.27\n",
       "23      San Luis Potosi   4.44\n",
       "24              Sinaloa  13.42\n",
       "25               Sonora   7.61\n",
       "26              Tabasco   9.45\n",
       "27           Tamaulipas   5.38\n",
       "28             Tlaxcala  13.59\n",
       "29             Veracruz  14.71\n",
       "30              Yucatán   9.63\n",
       "31            Zacatecas   9.96"
      ]
     },
     "execution_count": 32,
     "metadata": {},
     "output_type": "execute_result"
    }
   ],
   "source": [
    "df = pd.read_excel(path3 + 'letal.xlsx', names = ['ESTADOS','LET'])\n",
    "df['LET']=df['LET']*100\n",
    "df"
   ]
  },
  {
   "cell_type": "code",
   "execution_count": 34,
   "metadata": {},
   "outputs": [
    {
     "data": {
      "text/html": [
       "<div>\n",
       "<style scoped>\n",
       "    .dataframe tbody tr th:only-of-type {\n",
       "        vertical-align: middle;\n",
       "    }\n",
       "\n",
       "    .dataframe tbody tr th {\n",
       "        vertical-align: top;\n",
       "    }\n",
       "\n",
       "    .dataframe thead th {\n",
       "        text-align: right;\n",
       "    }\n",
       "</style>\n",
       "<table border=\"1\" class=\"dataframe\">\n",
       "  <thead>\n",
       "    <tr style=\"text-align: right;\">\n",
       "      <th></th>\n",
       "      <th>id</th>\n",
       "      <th>ESTADOS</th>\n",
       "      <th>geometry</th>\n",
       "    </tr>\n",
       "  </thead>\n",
       "  <tbody>\n",
       "    <tr>\n",
       "      <th>0</th>\n",
       "      <td>2610002</td>\n",
       "      <td>Aguascalientes</td>\n",
       "      <td>POLYGON ((-102.87418 21.85277, -102.87283 21.8...</td>\n",
       "    </tr>\n",
       "    <tr>\n",
       "      <th>1</th>\n",
       "      <td>2589601</td>\n",
       "      <td>Baja California</td>\n",
       "      <td>MULTIPOLYGON (((-118.36411 29.14631, -118.3648...</td>\n",
       "    </tr>\n",
       "    <tr>\n",
       "      <th>2</th>\n",
       "      <td>2589611</td>\n",
       "      <td>Baja California Sur</td>\n",
       "      <td>MULTIPOLYGON (((-112.07737 25.49453, -112.0771...</td>\n",
       "    </tr>\n",
       "    <tr>\n",
       "      <th>3</th>\n",
       "      <td>2568834</td>\n",
       "      <td>Campeche</td>\n",
       "      <td>MULTIPOLYGON (((-91.18573 18.95770, -91.18554 ...</td>\n",
       "    </tr>\n",
       "    <tr>\n",
       "      <th>4</th>\n",
       "      <td>2556679</td>\n",
       "      <td>Chiapas</td>\n",
       "      <td>MULTIPOLYGON (((-94.03396 16.02143, -94.03468 ...</td>\n",
       "    </tr>\n",
       "  </tbody>\n",
       "</table>\n",
       "</div>"
      ],
      "text/plain": [
       "        id              ESTADOS  \\\n",
       "0  2610002       Aguascalientes   \n",
       "1  2589601      Baja California   \n",
       "2  2589611  Baja California Sur   \n",
       "3  2568834             Campeche   \n",
       "4  2556679              Chiapas   \n",
       "\n",
       "                                            geometry  \n",
       "0  POLYGON ((-102.87418 21.85277, -102.87283 21.8...  \n",
       "1  MULTIPOLYGON (((-118.36411 29.14631, -118.3648...  \n",
       "2  MULTIPOLYGON (((-112.07737 25.49453, -112.0771...  \n",
       "3  MULTIPOLYGON (((-91.18573 18.95770, -91.18554 ...  \n",
       "4  MULTIPOLYGON (((-94.03396 16.02143, -94.03468 ...  "
      ]
     },
     "execution_count": 34,
     "metadata": {},
     "output_type": "execute_result"
    }
   ],
   "source": [
    "import geopandas as gpd\n",
    "import matplotlib.pyplot as plt \n",
    "\n",
    "#Definimos el mapa (queda como geoDataFrame) y el csv que utilizaremos\n",
    "\n",
    "shapefile = path3+'mapa/Mexico_Polygon.shp' #https://www.igismap.com/download-mexico-shapefile-free-boundary-line-polygon/\n",
    "#datafile = 'data/obesity.csv'\n",
    "\n",
    "gdf = gpd.read_file(shapefile)[['id','name','geometry']] #[['geometry']]\n",
    "gdf.columns = ['id', 'ESTADOS', 'geometry']\n",
    "\n",
    "gdf.head()\n",
    "#gdf.plot()   #(column='infected')\n",
    "#plt.show()"
   ]
  },
  {
   "cell_type": "code",
   "execution_count": 35,
   "metadata": {},
   "outputs": [
    {
     "data": {
      "text/html": [
       "<div>\n",
       "<style scoped>\n",
       "    .dataframe tbody tr th:only-of-type {\n",
       "        vertical-align: middle;\n",
       "    }\n",
       "\n",
       "    .dataframe tbody tr th {\n",
       "        vertical-align: top;\n",
       "    }\n",
       "\n",
       "    .dataframe thead th {\n",
       "        text-align: right;\n",
       "    }\n",
       "</style>\n",
       "<table border=\"1\" class=\"dataframe\">\n",
       "  <thead>\n",
       "    <tr style=\"text-align: right;\">\n",
       "      <th></th>\n",
       "      <th>id</th>\n",
       "      <th>ESTADOS</th>\n",
       "      <th>geometry</th>\n",
       "      <th>LET</th>\n",
       "    </tr>\n",
       "  </thead>\n",
       "  <tbody>\n",
       "    <tr>\n",
       "      <th>0</th>\n",
       "      <td>2610002</td>\n",
       "      <td>Aguascalientes</td>\n",
       "      <td>POLYGON ((-102.87418 21.85277, -102.87283 21.8...</td>\n",
       "      <td>5.14</td>\n",
       "    </tr>\n",
       "    <tr>\n",
       "      <th>1</th>\n",
       "      <td>2589601</td>\n",
       "      <td>Baja California</td>\n",
       "      <td>MULTIPOLYGON (((-118.36411 29.14631, -118.3648...</td>\n",
       "      <td>20.25</td>\n",
       "    </tr>\n",
       "    <tr>\n",
       "      <th>2</th>\n",
       "      <td>2589611</td>\n",
       "      <td>Baja California Sur</td>\n",
       "      <td>MULTIPOLYGON (((-112.07737 25.49453, -112.0771...</td>\n",
       "      <td>5.03</td>\n",
       "    </tr>\n",
       "    <tr>\n",
       "      <th>3</th>\n",
       "      <td>2568834</td>\n",
       "      <td>Campeche</td>\n",
       "      <td>MULTIPOLYGON (((-91.18573 18.95770, -91.18554 ...</td>\n",
       "      <td>8.61</td>\n",
       "    </tr>\n",
       "    <tr>\n",
       "      <th>4</th>\n",
       "      <td>2556679</td>\n",
       "      <td>Chiapas</td>\n",
       "      <td>MULTIPOLYGON (((-94.03396 16.02143, -94.03468 ...</td>\n",
       "      <td>9.72</td>\n",
       "    </tr>\n",
       "    <tr>\n",
       "      <th>5</th>\n",
       "      <td>1673425</td>\n",
       "      <td>Chihuahua</td>\n",
       "      <td>POLYGON ((-109.07498 28.27249, -109.07087 28.2...</td>\n",
       "      <td>19.32</td>\n",
       "    </tr>\n",
       "    <tr>\n",
       "      <th>6</th>\n",
       "      <td>1661524</td>\n",
       "      <td>Coahuila</td>\n",
       "      <td>POLYGON ((-103.96000 27.83531, -103.94578 27.8...</td>\n",
       "      <td>4.95</td>\n",
       "    </tr>\n",
       "    <tr>\n",
       "      <th>7</th>\n",
       "      <td>2340912</td>\n",
       "      <td>Colima</td>\n",
       "      <td>MULTIPOLYGON (((-114.76002 18.34604, -114.7595...</td>\n",
       "      <td>10.39</td>\n",
       "    </tr>\n",
       "    <tr>\n",
       "      <th>8</th>\n",
       "      <td>2399740</td>\n",
       "      <td>Durango</td>\n",
       "      <td>POLYGON ((-107.21013 25.41710, -107.18487 25.4...</td>\n",
       "      <td>10.43</td>\n",
       "    </tr>\n",
       "    <tr>\n",
       "      <th>9</th>\n",
       "      <td>2340909</td>\n",
       "      <td>Guanajuato</td>\n",
       "      <td>POLYGON ((-102.09728 20.38649, -102.09713 20.3...</td>\n",
       "      <td>6.99</td>\n",
       "    </tr>\n",
       "    <tr>\n",
       "      <th>10</th>\n",
       "      <td>2439316</td>\n",
       "      <td>Guerrero</td>\n",
       "      <td>MULTIPOLYGON (((-101.65833 17.67360, -101.6587...</td>\n",
       "      <td>4.45</td>\n",
       "    </tr>\n",
       "    <tr>\n",
       "      <th>11</th>\n",
       "      <td>1376490</td>\n",
       "      <td>Hidalgo</td>\n",
       "      <td>POLYGON ((-99.85951 20.26488, -99.85911 20.268...</td>\n",
       "      <td>15.40</td>\n",
       "    </tr>\n",
       "    <tr>\n",
       "      <th>12</th>\n",
       "      <td>2340910</td>\n",
       "      <td>Jalisco</td>\n",
       "      <td>POLYGON ((-105.69492 20.40611, -105.69540 20.4...</td>\n",
       "      <td>16.05</td>\n",
       "    </tr>\n",
       "    <tr>\n",
       "      <th>13</th>\n",
       "      <td>1376489</td>\n",
       "      <td>Mexico</td>\n",
       "      <td>POLYGON ((-100.61309 18.88710, -100.61260 18.8...</td>\n",
       "      <td>7.58</td>\n",
       "    </tr>\n",
       "    <tr>\n",
       "      <th>14</th>\n",
       "      <td>1376330</td>\n",
       "      <td>Mexico City</td>\n",
       "      <td>POLYGON ((-99.36492 19.27777, -99.36485 19.277...</td>\n",
       "      <td>16.31</td>\n",
       "    </tr>\n",
       "    <tr>\n",
       "      <th>15</th>\n",
       "      <td>2340636</td>\n",
       "      <td>Michoacán</td>\n",
       "      <td>POLYGON ((-103.73776 18.68417, -103.73751 18.6...</td>\n",
       "      <td>6.57</td>\n",
       "    </tr>\n",
       "    <tr>\n",
       "      <th>16</th>\n",
       "      <td>1376332</td>\n",
       "      <td>Morelos</td>\n",
       "      <td>POLYGON ((-99.49441 18.72055, -99.49434 18.720...</td>\n",
       "      <td>24.00</td>\n",
       "    </tr>\n",
       "    <tr>\n",
       "      <th>17</th>\n",
       "      <td>7695827</td>\n",
       "      <td>Nayarit</td>\n",
       "      <td>MULTIPOLYGON (((-106.27946 21.31555, -106.2794...</td>\n",
       "      <td>10.16</td>\n",
       "    </tr>\n",
       "    <tr>\n",
       "      <th>18</th>\n",
       "      <td>1661523</td>\n",
       "      <td>Nuevo León</td>\n",
       "      <td>POLYGON ((-101.20676 26.36978, -101.18960 26.3...</td>\n",
       "      <td>4.87</td>\n",
       "    </tr>\n",
       "    <tr>\n",
       "      <th>19</th>\n",
       "      <td>2529822</td>\n",
       "      <td>Oaxaca</td>\n",
       "      <td>MULTIPOLYGON (((-94.34258 16.24737, -94.34286 ...</td>\n",
       "      <td>9.56</td>\n",
       "    </tr>\n",
       "    <tr>\n",
       "      <th>20</th>\n",
       "      <td>1376491</td>\n",
       "      <td>Puebla</td>\n",
       "      <td>POLYGON ((-99.07049 18.32684, -99.06997 18.328...</td>\n",
       "      <td>11.47</td>\n",
       "    </tr>\n",
       "    <tr>\n",
       "      <th>21</th>\n",
       "      <td>2340903</td>\n",
       "      <td>Querétaro</td>\n",
       "      <td>POLYGON ((-100.59654 20.71726, -100.59651 20.7...</td>\n",
       "      <td>12.08</td>\n",
       "    </tr>\n",
       "    <tr>\n",
       "      <th>22</th>\n",
       "      <td>2614434</td>\n",
       "      <td>Quintana Roo</td>\n",
       "      <td>MULTIPOLYGON (((-87.62996 19.70791, -87.63005 ...</td>\n",
       "      <td>17.27</td>\n",
       "    </tr>\n",
       "    <tr>\n",
       "      <th>23</th>\n",
       "      <td>4086617</td>\n",
       "      <td>San Luis Potosi</td>\n",
       "      <td>POLYGON ((-102.29604 23.32050, -102.29290 23.3...</td>\n",
       "      <td>4.44</td>\n",
       "    </tr>\n",
       "    <tr>\n",
       "      <th>24</th>\n",
       "      <td>2455086</td>\n",
       "      <td>Sinaloa</td>\n",
       "      <td>MULTIPOLYGON (((-105.67867 22.46788, -105.6786...</td>\n",
       "      <td>13.42</td>\n",
       "    </tr>\n",
       "    <tr>\n",
       "      <th>25</th>\n",
       "      <td>1673426</td>\n",
       "      <td>Sonora</td>\n",
       "      <td>MULTIPOLYGON (((-112.31756 29.33680, -112.3175...</td>\n",
       "      <td>7.61</td>\n",
       "    </tr>\n",
       "    <tr>\n",
       "      <th>26</th>\n",
       "      <td>2556680</td>\n",
       "      <td>Tabasco</td>\n",
       "      <td>MULTIPOLYGON (((-94.13019 18.21319, -94.13015 ...</td>\n",
       "      <td>9.45</td>\n",
       "    </tr>\n",
       "    <tr>\n",
       "      <th>27</th>\n",
       "      <td>2415518</td>\n",
       "      <td>Tamaulipas</td>\n",
       "      <td>MULTIPOLYGON (((-97.74696 24.97768, -97.74725 ...</td>\n",
       "      <td>5.38</td>\n",
       "    </tr>\n",
       "    <tr>\n",
       "      <th>28</th>\n",
       "      <td>1375274</td>\n",
       "      <td>Tlaxcala</td>\n",
       "      <td>POLYGON ((-98.70840 19.54760, -98.70772 19.549...</td>\n",
       "      <td>13.59</td>\n",
       "    </tr>\n",
       "    <tr>\n",
       "      <th>29</th>\n",
       "      <td>2415761</td>\n",
       "      <td>Veracruz</td>\n",
       "      <td>MULTIPOLYGON (((-96.09268 19.17383, -96.09277 ...</td>\n",
       "      <td>14.71</td>\n",
       "    </tr>\n",
       "    <tr>\n",
       "      <th>30</th>\n",
       "      <td>2614435</td>\n",
       "      <td>Yucatán</td>\n",
       "      <td>MULTIPOLYGON (((-90.40637 20.84763, -90.40683 ...</td>\n",
       "      <td>9.63</td>\n",
       "    </tr>\n",
       "    <tr>\n",
       "      <th>31</th>\n",
       "      <td>2399704</td>\n",
       "      <td>Zacatecas</td>\n",
       "      <td>POLYGON ((-104.35353 22.40132, -104.35335 22.4...</td>\n",
       "      <td>9.96</td>\n",
       "    </tr>\n",
       "  </tbody>\n",
       "</table>\n",
       "</div>"
      ],
      "text/plain": [
       "         id              ESTADOS  \\\n",
       "0   2610002       Aguascalientes   \n",
       "1   2589601      Baja California   \n",
       "2   2589611  Baja California Sur   \n",
       "3   2568834             Campeche   \n",
       "4   2556679              Chiapas   \n",
       "5   1673425            Chihuahua   \n",
       "6   1661524             Coahuila   \n",
       "7   2340912               Colima   \n",
       "8   2399740              Durango   \n",
       "9   2340909           Guanajuato   \n",
       "10  2439316             Guerrero   \n",
       "11  1376490              Hidalgo   \n",
       "12  2340910              Jalisco   \n",
       "13  1376489               Mexico   \n",
       "14  1376330          Mexico City   \n",
       "15  2340636            Michoacán   \n",
       "16  1376332              Morelos   \n",
       "17  7695827              Nayarit   \n",
       "18  1661523           Nuevo León   \n",
       "19  2529822               Oaxaca   \n",
       "20  1376491               Puebla   \n",
       "21  2340903            Querétaro   \n",
       "22  2614434         Quintana Roo   \n",
       "23  4086617      San Luis Potosi   \n",
       "24  2455086              Sinaloa   \n",
       "25  1673426               Sonora   \n",
       "26  2556680              Tabasco   \n",
       "27  2415518           Tamaulipas   \n",
       "28  1375274             Tlaxcala   \n",
       "29  2415761             Veracruz   \n",
       "30  2614435              Yucatán   \n",
       "31  2399704            Zacatecas   \n",
       "\n",
       "                                             geometry    LET  \n",
       "0   POLYGON ((-102.87418 21.85277, -102.87283 21.8...   5.14  \n",
       "1   MULTIPOLYGON (((-118.36411 29.14631, -118.3648...  20.25  \n",
       "2   MULTIPOLYGON (((-112.07737 25.49453, -112.0771...   5.03  \n",
       "3   MULTIPOLYGON (((-91.18573 18.95770, -91.18554 ...   8.61  \n",
       "4   MULTIPOLYGON (((-94.03396 16.02143, -94.03468 ...   9.72  \n",
       "5   POLYGON ((-109.07498 28.27249, -109.07087 28.2...  19.32  \n",
       "6   POLYGON ((-103.96000 27.83531, -103.94578 27.8...   4.95  \n",
       "7   MULTIPOLYGON (((-114.76002 18.34604, -114.7595...  10.39  \n",
       "8   POLYGON ((-107.21013 25.41710, -107.18487 25.4...  10.43  \n",
       "9   POLYGON ((-102.09728 20.38649, -102.09713 20.3...   6.99  \n",
       "10  MULTIPOLYGON (((-101.65833 17.67360, -101.6587...   4.45  \n",
       "11  POLYGON ((-99.85951 20.26488, -99.85911 20.268...  15.40  \n",
       "12  POLYGON ((-105.69492 20.40611, -105.69540 20.4...  16.05  \n",
       "13  POLYGON ((-100.61309 18.88710, -100.61260 18.8...   7.58  \n",
       "14  POLYGON ((-99.36492 19.27777, -99.36485 19.277...  16.31  \n",
       "15  POLYGON ((-103.73776 18.68417, -103.73751 18.6...   6.57  \n",
       "16  POLYGON ((-99.49441 18.72055, -99.49434 18.720...  24.00  \n",
       "17  MULTIPOLYGON (((-106.27946 21.31555, -106.2794...  10.16  \n",
       "18  POLYGON ((-101.20676 26.36978, -101.18960 26.3...   4.87  \n",
       "19  MULTIPOLYGON (((-94.34258 16.24737, -94.34286 ...   9.56  \n",
       "20  POLYGON ((-99.07049 18.32684, -99.06997 18.328...  11.47  \n",
       "21  POLYGON ((-100.59654 20.71726, -100.59651 20.7...  12.08  \n",
       "22  MULTIPOLYGON (((-87.62996 19.70791, -87.63005 ...  17.27  \n",
       "23  POLYGON ((-102.29604 23.32050, -102.29290 23.3...   4.44  \n",
       "24  MULTIPOLYGON (((-105.67867 22.46788, -105.6786...  13.42  \n",
       "25  MULTIPOLYGON (((-112.31756 29.33680, -112.3175...   7.61  \n",
       "26  MULTIPOLYGON (((-94.13019 18.21319, -94.13015 ...   9.45  \n",
       "27  MULTIPOLYGON (((-97.74696 24.97768, -97.74725 ...   5.38  \n",
       "28  POLYGON ((-98.70840 19.54760, -98.70772 19.549...  13.59  \n",
       "29  MULTIPOLYGON (((-96.09268 19.17383, -96.09277 ...  14.71  \n",
       "30  MULTIPOLYGON (((-90.40637 20.84763, -90.40683 ...   9.63  \n",
       "31  POLYGON ((-104.35353 22.40132, -104.35335 22.4...   9.96  "
      ]
     },
     "execution_count": 35,
     "metadata": {},
     "output_type": "execute_result"
    }
   ],
   "source": [
    "# Perform left merge to preserve every row in gdf.\n",
    "merged = gdf.merge(df, left_on = 'ESTADOS', right_on = 'ESTADOS', how = 'right')\n",
    "def_d_100 = merged\n",
    "def_d_100\n",
    "# Replace NaN values to string 'No data'.\n",
    "#merged.fillna('No data', inplace = True)"
   ]
  },
  {
   "cell_type": "code",
   "execution_count": 42,
   "metadata": {},
   "outputs": [
    {
     "data": {
      "text/plain": [
       "Text(0.5, 1, 'Letalidad')"
      ]
     },
     "execution_count": 42,
     "metadata": {},
     "output_type": "execute_result"
    },
    {
     "data": {
      "image/png": "[encoded data removed]",
      "text/plain": [
       "<Figure size 720x720 with 2 Axes>"
      ]
     },
     "metadata": {
      "needs_background": "light"
     },
     "output_type": "display_data"
    }
   ],
   "source": [
    "from mpl_toolkits.axes_grid1 import make_axes_locatable \n",
    "# import mapclassify \n",
    "\n",
    "fig, ax = fig, ax = plt.subplots(figsize = (10,10))\n",
    "divider = make_axes_locatable(ax)\n",
    "\n",
    "ax.axes.xaxis.set_visible(False)\n",
    "ax.axes.yaxis.set_visible(False)\n",
    "\n",
    "import matplotlib as mpl\n",
    "\n",
    "cmap = mpl.cm.Reds(np.linspace(0,1,20))\n",
    "cmap = mpl.colors.ListedColormap(cmap[5:,:-1])\n",
    "\n",
    "# Barra horizontal \n",
    "\n",
    "cax = divider.append_axes('bottom', size = '5%', pad = 0.1)\n",
    "\n",
    "def_d_100.plot(column = 'LET', ax = ax, cax = cax, cmap = cmap, legend = True, legend_kwds={'label': 'Letalidad (%)', 'orientation':'horizontal'})\n",
    "plt.savefig(path2+'mapa_letalidad.png',bbox_inches='tight')"
   ]
  },
  {
   "cell_type": "code",
   "execution_count": 48,
   "metadata": {},
   "outputs": [
    {
     "name": "stderr",
     "output_type": "stream",
     "text": [
      "C:\\ProgramData\\Anaconda3\\lib\\site-packages\\docx\\styles\\styles.py:139: UserWarning: style lookup by style_id is deprecated. Use style name as key instead.\n",
      "  return self._get_style_id_from_style(self[style_name], style_type)\n"
     ]
    },
    {
     "name": "stdout",
     "output_type": "stream",
     "text": [
      "FIN\n"
     ]
    }
   ],
   "source": [
    "corte_string = datetime.datetime.strftime(corte,'%d-%m-%Y')\n",
    "\n",
    "document = Document()\n",
    "document.add_heading('Letalidad y Pruebas Positivas al ' + datetime.datetime.today().strftime('%d/%m/%Y'),0)\n",
    "\n",
    "\n",
    "document.add_heading('Pruebas', level=1)\n",
    "\n",
    "document.add_paragraph('En la última semana, en las redes sociales se mencionó que el porcentaje de pruebas positivas en México era sumamente elevado, lo cual decidimos comprobar y resultó ser cierto. Esto se puede deber a la baja cantidad de pruebas realizadas, por lo que no es fácil leer ese porcentaje. Los datos sobre las pruebas se ordenaron de acuerdo con el día de ingreso a la Unidad Médica')\n",
    " \n",
    "document.add_picture(path2+'pruebas_internacional.png',width=Inches(3.6))\n",
    "#document.save(path2 + 'Letalidad y Pruebas ' + string + '.docx')\n",
    "\n",
    "document.add_paragraph('R.U. = Reino Unido')\n",
    "\n",
    "document.add_picture(path2+'pruebas_pct.png',width=Inches(3.6))\n",
    "#document.save(path2 + 'Letalidad y Pruebas ' + string + '.docx')\n",
    "\n",
    "document.add_picture(path2+'pruebas_pos_neg.png', width=Inches(3.6))\n",
    "#document.save(path2 + 'Letalidad y Pruebas ' + string + '.docx')\n",
    "\n",
    "\n",
    "document.add_heading('Letalidad', level=1)\n",
    "\n",
    "document.add_paragraph('Los datos sobre letalidad se ordenaron de acuerdo con el día en que se presentaron los síntomas, calculando la letalidad como el número de pacientes fallecidos con COVID19 dividido entre el total de los pacientes fallecidos con COVID19 más los pacientes no fallecidos con COVID19. La letalidad en México es alta, de poco más del 12%, lo cual se puede deber a que se realizan pocas pruebas. A su vez, la letalidad es altamente variable entre los estados.')\n",
    "\n",
    "document.add_picture(path2 + 'letalidad_internacional.png', width=Inches(3.6))\n",
    "\n",
    "document.add_paragraph('R.U. = Reino Unido')\n",
    "                       \n",
    "document.add_picture(path2+'letalidad.png', width=Inches(3.6))\n",
    "\n",
    "document.add_picture(path2 + 'mapa_letalidad.png', width=Inches(4.2))\n",
    "\n",
    "document.add_page_break()\n",
    "\n",
    "table = document.add_table(34,2,style='LightShading-Accent1')\n",
    "\n",
    "hdr_cells = table.rows[0].cells\n",
    "hdr_cells[0].text = 'ENTIDAD FEDERATIVA'\n",
    "hdr_cells[1].text = 'LETALIDAD ACUMULADA AL ' + corte_string\n",
    "\n",
    "                     \n",
    "for i in x: \n",
    "    table.cell(i, 0).text = estados2['ENTIDAD_FEDERATIVA'][i]\n",
    "    document.save(path2 + 'Letalidad y Pruebas ' + string + '.docx')    \n",
    "\n",
    "table.cell(-1,0).text = 'VALLE DE MÉXICO'\n",
    "document.save(path2 + 'Letalidad y Pruebas ' + string + '.docx')\n",
    "\n",
    "for i in x: \n",
    "    table.cell(i,1).text = '{:6.2f}'.format(letal2[i].iloc[-13,-1])+'%'\n",
    "    document.save(path2 + 'Letalidad y Pruebas ' + string + '.docx')\n",
    "    \n",
    "table.cell(-1,1).text = '{:6.2f}'.format(let_val2[-13])+'%'\n",
    "document.save(path2 + 'Letalidad y Pruebas ' + string + '.docx')\n",
    "\n",
    "document.add_page_break()\n",
    "\n",
    "for i in x:\n",
    "    document.add_picture(path2 +'letalidad_'+ estados2['ENTIDAD_FEDERATIVA'][i] +'.png', width=Inches(3.6))\n",
    "    document.save(path2 + 'Letalidad y Pruebas ' + string + '.docx')\n",
    "\n",
    "document.add_picture(path2+'letalidad_VALLE.png', width=Inches(3.6))\n",
    "\n",
    "      \n",
    "\n",
    "\n",
    "\n",
    "print('FIN')"
   ]
  },
  {
   "cell_type": "code",
   "execution_count": null,
   "metadata": {},
   "outputs": [],
   "source": []
  },
  {
   "cell_type": "code",
   "execution_count": 17,
   "metadata": {},
   "outputs": [
    {
     "name": "stdout",
     "output_type": "stream",
     "text": [
      "AGUASCALIENTES\n",
      "                0\n",
      "count  157.000000\n",
      "mean     1.158819\n",
      "std      1.634760\n",
      "min      0.000000\n",
      "25%      0.000000\n",
      "50%      0.000000\n",
      "75%      2.036872\n",
      "max      5.333484\n",
      "BAJA CALIFORNIA\n",
      "                0\n",
      "count  154.000000\n",
      "mean     7.883896\n",
      "std      8.464243\n",
      "min      0.000000\n",
      "25%      0.000000\n",
      "50%      4.187207\n",
      "75%     17.045474\n",
      "max     21.304715\n",
      "BAJA CALIFORNIA SUR\n",
      "               0\n",
      "count  98.000000\n",
      "mean    2.196036\n",
      "std     1.293345\n",
      "min     0.000000\n",
      "25%     1.049044\n",
      "50%     2.316648\n",
      "75%     3.164583\n",
      "max     5.024687\n",
      "CAMPECHE\n",
      "               0\n",
      "count  99.000000\n",
      "mean    6.220254\n",
      "std     4.340119\n",
      "min     0.000000\n",
      "25%     1.513137\n",
      "50%     8.538068\n",
      "75%     9.754466\n",
      "max    11.460814\n",
      "COAHUILA DE ZARAGOZA\n",
      "                0\n",
      "count  143.000000\n",
      "mean     2.979346\n",
      "std      2.766088\n",
      "min      0.000000\n",
      "25%      0.000000\n",
      "50%      3.689053\n",
      "75%      5.128420\n",
      "max      8.877565\n",
      "COLIMA\n",
      "               0\n",
      "count  99.000000\n",
      "mean    3.319219\n",
      "std     3.609743\n",
      "min     0.000000\n",
      "25%     0.000000\n",
      "50%     1.705757\n",
      "75%     7.282133\n",
      "max     9.672426\n",
      "CHIAPAS\n",
      "                0\n",
      "count  115.000000\n",
      "mean     3.024484\n",
      "std      3.011823\n",
      "min      0.000000\n",
      "25%      0.000000\n",
      "50%      1.973255\n",
      "75%      5.429489\n",
      "max      9.624267\n",
      "CHIHUAHUA\n",
      "               0\n",
      "count  99.000000\n",
      "mean   12.316113\n",
      "std     6.970175\n",
      "min     0.000000\n",
      "25%     7.990888\n",
      "50%    14.444157\n",
      "75%    17.521714\n",
      "max    20.671790\n",
      "CIUDAD DE MÉXICO\n",
      "                0\n",
      "count  118.000000\n",
      "mean     5.360074\n",
      "std      3.822796\n",
      "min      0.000000\n",
      "25%      0.750152\n",
      "50%      6.264950\n",
      "75%      8.939111\n",
      "max     10.416376\n",
      "DURANGO\n",
      "                  0\n",
      "count  1.050000e+02\n",
      "mean   3.867819e+00\n",
      "std    2.880216e+00\n",
      "min    0.000000e+00\n",
      "25%    3.965082e-16\n",
      "50%    3.971612e+00\n",
      "75%    6.701887e+00\n",
      "max    8.022159e+00\n",
      "GUANAJUATO\n",
      "                0\n",
      "count  101.000000\n",
      "mean     3.906622\n",
      "std      2.826574\n",
      "min      0.000000\n",
      "25%      1.711122\n",
      "50%      4.415155\n",
      "75%      5.881223\n",
      "max      8.493751\n",
      "GUERRERO\n",
      "                0\n",
      "count  103.000000\n",
      "mean     8.302181\n",
      "std      5.767885\n",
      "min      0.000000\n",
      "25%      1.560775\n",
      "50%     11.663572\n",
      "75%     12.377723\n",
      "max     15.997430\n",
      "HIDALGO\n",
      "                0\n",
      "count  104.000000\n",
      "mean     9.603354\n",
      "std      6.631228\n",
      "min      0.000000\n",
      "25%      2.676210\n",
      "50%     11.244384\n",
      "75%     16.136834\n",
      "max     16.862001\n",
      "JALISCO\n",
      "                0\n",
      "count  110.000000\n",
      "mean     4.274499\n",
      "std      2.963279\n",
      "min      0.000000\n",
      "25%      0.992365\n",
      "50%      5.424843\n",
      "75%      6.871124\n",
      "max      8.406598\n",
      "MÉXICO\n",
      "                0\n",
      "count  121.000000\n",
      "mean     8.328929\n",
      "std      6.843614\n",
      "min      0.000000\n",
      "25%      0.000000\n",
      "50%      8.627089\n",
      "75%     15.557598\n",
      "max     16.588433\n",
      "MICHOACÁN DE OCAMPO\n",
      "                0\n",
      "count  102.000000\n",
      "mean     5.264766\n",
      "std      2.953639\n",
      "min      0.000000\n",
      "25%      3.290717\n",
      "50%      6.576395\n",
      "75%      7.413370\n",
      "max      9.300826\n",
      "MORELOS\n",
      "               0\n",
      "count  97.000000\n",
      "mean   16.091799\n",
      "std    10.442935\n",
      "min     0.000000\n",
      "25%     5.845187\n",
      "50%    16.943154\n",
      "75%    26.559383\n",
      "max    28.712713\n",
      "NAYARIT\n",
      "                0\n",
      "count  101.000000\n",
      "mean     4.955226\n",
      "std      3.510375\n",
      "min      0.000000\n",
      "25%      2.107728\n",
      "50%      4.839000\n",
      "75%      7.835328\n",
      "max     10.820552\n",
      "NUEVO LEÓN\n",
      "                0\n",
      "count  158.000000\n",
      "mean     2.172972\n",
      "std      2.532362\n",
      "min      0.000000\n",
      "25%      0.000000\n",
      "50%      0.465353\n",
      "75%      5.091085\n",
      "max      6.226534\n",
      "OAXACA\n",
      "                0\n",
      "count  102.000000\n",
      "mean     5.312361\n",
      "std      3.751082\n",
      "min      0.000000\n",
      "25%      0.484262\n",
      "50%      6.873108\n",
      "75%      8.426242\n",
      "max     10.803476\n",
      "PUEBLA\n",
      "                0\n",
      "count  106.000000\n",
      "mean     8.890502\n",
      "std      5.335977\n",
      "min      0.000000\n",
      "25%      3.040971\n",
      "50%     11.751260\n",
      "75%     12.587937\n",
      "max     14.734135\n",
      "QUERÉTARO\n",
      "                0\n",
      "count  106.000000\n",
      "mean     4.809292\n",
      "std      4.269397\n",
      "min      0.000000\n",
      "25%      0.539084\n",
      "50%      4.965876\n",
      "75%      8.867035\n",
      "max     12.570295\n",
      "QUINTANA ROO\n",
      "                0\n",
      "count  110.000000\n",
      "mean    10.510947\n",
      "std      7.579297\n",
      "min      0.000000\n",
      "25%      2.381667\n",
      "50%     12.289248\n",
      "75%     18.124625\n",
      "max     18.957439\n",
      "SAN LUIS POTOSÍ\n",
      "                0\n",
      "count  104.000000\n",
      "mean     2.244864\n",
      "std      1.587781\n",
      "min      0.000000\n",
      "25%      0.936768\n",
      "50%      1.897412\n",
      "75%      3.702675\n",
      "max      4.833701\n",
      "SINALOA\n",
      "                0\n",
      "count  142.000000\n",
      "mean     6.606238\n",
      "std      5.979356\n",
      "min      0.000000\n",
      "25%      0.000000\n",
      "50%      7.333556\n",
      "75%     12.725626\n",
      "max     13.849480\n",
      "SONORA\n",
      "                0\n",
      "count  100.000000\n",
      "mean     3.482173\n",
      "std      2.018268\n",
      "min      0.000000\n",
      "25%      2.294414\n",
      "50%      3.917707\n",
      "75%      4.732546\n",
      "max      7.332765\n",
      "TABASCO\n",
      "                0\n",
      "count  102.000000\n",
      "mean     6.705720\n",
      "std      4.395429\n",
      "min      0.000000\n",
      "25%      2.217034\n",
      "50%      9.011507\n",
      "75%     10.812146\n",
      "max     11.177488\n",
      "TAMAULIPAS\n",
      "               0\n",
      "count  98.000000\n",
      "mean    3.154130\n",
      "std     2.314854\n",
      "min     0.000000\n",
      "25%     0.731584\n",
      "50%     3.625300\n",
      "75%     5.422696\n",
      "max     5.964590\n",
      "TLAXCALA\n",
      "               0\n",
      "count  95.000000\n",
      "mean    7.663389\n",
      "std     5.505087\n",
      "min     0.000000\n",
      "25%     1.310726\n",
      "50%    10.777508\n",
      "75%    12.683400\n",
      "max    13.450192\n",
      "VERACRUZ DE IGNACIO DE LA LLAVE\n",
      "                0\n",
      "count  108.000000\n",
      "mean     6.690908\n",
      "std      5.680756\n",
      "min      0.000000\n",
      "25%      0.699708\n",
      "50%      6.491199\n",
      "75%     12.824735\n",
      "max     14.783076\n",
      "YUCATÁN\n",
      "                0\n",
      "count  104.000000\n",
      "mean     5.112633\n",
      "std      3.754311\n",
      "min      0.000000\n",
      "25%      1.013972\n",
      "50%      5.783291\n",
      "75%      8.577145\n",
      "max      9.841459\n",
      "ZACATECAS\n",
      "                0\n",
      "count  102.000000\n",
      "mean     4.535220\n",
      "std      3.871529\n",
      "min      0.000000\n",
      "25%      0.000000\n",
      "50%      4.832944\n",
      "75%      8.547163\n",
      "max     10.231375\n"
     ]
    }
   ],
   "source": [
    "for i in x:\n",
    "    print(estados2['ENTIDAD_FEDERATIVA'][i])\n",
    "    print(letal2[i].describe())"
   ]
  },
  {
   "cell_type": "code",
   "execution_count": 18,
   "metadata": {},
   "outputs": [
    {
     "name": "stdout",
     "output_type": "stream",
     "text": [
      "AGUASCALIENTES\n",
      "                0\n",
      "count  162.000000\n",
      "mean    16.003841\n",
      "std     17.581010\n",
      "min      0.000000\n",
      "25%      0.000000\n",
      "50%     11.073749\n",
      "75%     21.833740\n",
      "max     77.126758\n",
      "BAJA CALIFORNIA\n",
      "                0\n",
      "count  168.000000\n",
      "mean    35.192226\n",
      "std     31.948889\n",
      "min      0.000000\n",
      "25%      0.000000\n",
      "50%     39.883163\n",
      "75%     65.697952\n",
      "max     78.190483\n",
      "BAJA CALIFORNIA SUR\n",
      "                0\n",
      "count  162.000000\n",
      "mean    18.804386\n",
      "std     16.915230\n",
      "min      0.000000\n",
      "25%      0.000000\n",
      "50%     24.908459\n",
      "75%     34.121967\n",
      "max     44.313368\n",
      "CAMPECHE\n",
      "                0\n",
      "count  120.000000\n",
      "mean    32.913092\n",
      "std     19.856866\n",
      "min      0.000000\n",
      "25%     14.285714\n",
      "50%     40.351132\n",
      "75%     50.026979\n",
      "max     60.045631\n",
      "COAHUILA DE ZARAGOZA\n",
      "                0\n",
      "count  169.000000\n",
      "mean    11.571091\n",
      "std     10.186212\n",
      "min      0.000000\n",
      "25%      0.000000\n",
      "50%     12.735270\n",
      "75%     17.851089\n",
      "max     42.875479\n",
      "COLIMA\n",
      "                0\n",
      "count  111.000000\n",
      "mean    24.957853\n",
      "std     17.786245\n",
      "min      0.000000\n",
      "25%      8.095238\n",
      "50%     27.142857\n",
      "75%     36.636321\n",
      "max     60.065708\n",
      "CHIAPAS\n",
      "                0\n",
      "count  144.000000\n",
      "mean    33.098583\n",
      "std     30.484012\n",
      "min      0.000000\n",
      "25%      0.000000\n",
      "50%     20.842800\n",
      "75%     65.738131\n",
      "max     83.051341\n",
      "CHIHUAHUA\n",
      "                0\n",
      "count  153.000000\n",
      "mean    26.652959\n",
      "std     21.690161\n",
      "min      0.000000\n",
      "25%      0.000000\n",
      "50%     36.465718\n",
      "75%     47.170794\n",
      "max     53.912284\n",
      "CIUDAD DE MÉXICO\n",
      "                0\n",
      "count  169.000000\n",
      "mean    26.716001\n",
      "std     21.849079\n",
      "min      0.000000\n",
      "25%      0.000000\n",
      "50%     30.543631\n",
      "75%     49.055539\n",
      "max     55.552464\n",
      "DURANGO\n",
      "                0\n",
      "count  167.000000\n",
      "mean    12.331281\n",
      "std     12.381287\n",
      "min      0.000000\n",
      "25%      0.000000\n",
      "50%      7.158120\n",
      "75%     22.299813\n",
      "max     34.904481\n",
      "GUANAJUATO\n",
      "                0\n",
      "count  168.000000\n",
      "mean    12.071772\n",
      "std     15.443075\n",
      "min      0.000000\n",
      "25%      0.000000\n",
      "50%      7.581582\n",
      "75%     16.965279\n",
      "max     51.201403\n",
      "GUERRERO\n",
      "                0\n",
      "count  161.000000\n",
      "mean    28.953149\n",
      "std     27.247066\n",
      "min      0.000000\n",
      "25%      0.000000\n",
      "50%     27.115408\n",
      "75%     50.540304\n",
      "max     80.964638\n",
      "HIDALGO\n",
      "                0\n",
      "count  168.000000\n",
      "mean    28.593677\n",
      "std     28.153223\n",
      "min      0.000000\n",
      "25%      0.000000\n",
      "50%     16.718995\n",
      "75%     58.664998\n",
      "max     70.633977\n",
      "JALISCO\n",
      "                0\n",
      "count  170.000000\n",
      "mean    12.992024\n",
      "std     15.653683\n",
      "min      0.000000\n",
      "25%      0.000000\n",
      "50%      7.376526\n",
      "75%     20.095526\n",
      "max     54.392447\n",
      "MÉXICO\n",
      "                0\n",
      "count  169.000000\n",
      "mean    28.320686\n",
      "std     23.760166\n",
      "min      0.000000\n",
      "25%      0.000000\n",
      "50%     27.996123\n",
      "75%     53.336234\n",
      "max     63.257717\n",
      "MICHOACÁN DE OCAMPO\n",
      "                0\n",
      "count  162.000000\n",
      "mean    18.109848\n",
      "std     17.693621\n",
      "min      0.000000\n",
      "25%      0.000000\n",
      "50%     14.045482\n",
      "75%     37.113061\n",
      "max     47.659505\n",
      "MORELOS\n",
      "                0\n",
      "count  164.000000\n",
      "mean    28.595408\n",
      "std     28.362105\n",
      "min      0.000000\n",
      "25%      0.000000\n",
      "50%     23.662805\n",
      "75%     58.319214\n",
      "max     78.367370\n",
      "NAYARIT\n",
      "                0\n",
      "count  108.000000\n",
      "mean    32.308565\n",
      "std     18.754573\n",
      "min      0.000000\n",
      "25%     19.766543\n",
      "50%     31.807648\n",
      "75%     46.691633\n",
      "max     61.321697\n",
      "NUEVO LEÓN\n",
      "                0\n",
      "count  168.000000\n",
      "mean     9.549432\n",
      "std     10.252200\n",
      "min      0.000000\n",
      "25%      0.000000\n",
      "50%      6.509351\n",
      "75%     14.638666\n",
      "max     44.520100\n",
      "OAXACA\n",
      "                0\n",
      "count  168.000000\n",
      "mean    26.293140\n",
      "std     27.412402\n",
      "min      0.000000\n",
      "25%      0.000000\n",
      "50%     13.762902\n",
      "75%     57.786861\n",
      "max     71.460733\n",
      "PUEBLA\n",
      "                0\n",
      "count  170.000000\n",
      "mean    25.880174\n",
      "std     23.188293\n",
      "min      0.000000\n",
      "25%      0.000000\n",
      "50%     28.358213\n",
      "75%     49.333391\n",
      "max     73.333977\n",
      "QUERÉTARO\n",
      "                0\n",
      "count  133.000000\n",
      "mean    29.480717\n",
      "std     21.446848\n",
      "min      0.000000\n",
      "25%     10.568424\n",
      "50%     28.571429\n",
      "75%     49.687314\n",
      "max     62.585032\n",
      "QUINTANA ROO\n",
      "                0\n",
      "count  168.000000\n",
      "mean    32.521562\n",
      "std     28.682383\n",
      "min      0.000000\n",
      "25%      0.000000\n",
      "50%     38.212305\n",
      "75%     57.105569\n",
      "max     77.836357\n",
      "SAN LUIS POTOSÍ\n",
      "                0\n",
      "count  151.000000\n",
      "mean    14.444185\n",
      "std     14.589931\n",
      "min      0.000000\n",
      "25%      0.000000\n",
      "50%      7.090929\n",
      "75%     27.106560\n",
      "max     48.909503\n",
      "SINALOA\n",
      "                0\n",
      "count  169.000000\n",
      "mean    31.178855\n",
      "std     27.967897\n",
      "min      0.000000\n",
      "25%      0.000000\n",
      "50%     24.877531\n",
      "75%     59.752310\n",
      "max     74.187631\n",
      "SONORA\n",
      "                0\n",
      "count  165.000000\n",
      "mean    24.915496\n",
      "std     27.109601\n",
      "min      0.000000\n",
      "25%      0.000000\n",
      "50%     12.236002\n",
      "75%     49.174514\n",
      "max     74.099591\n",
      "TABASCO\n",
      "                0\n",
      "count  165.000000\n",
      "mean    26.735438\n",
      "std     23.871400\n",
      "min      0.000000\n",
      "25%      0.000000\n",
      "50%     26.242145\n",
      "75%     50.044610\n",
      "max     62.890166\n",
      "TAMAULIPAS\n",
      "                0\n",
      "count  170.000000\n",
      "mean    16.184829\n",
      "std     15.952150\n",
      "min      0.000000\n",
      "25%      0.000000\n",
      "50%     19.056616\n",
      "75%     26.919154\n",
      "max     72.370917\n",
      "TLAXCALA\n",
      "                0\n",
      "count  155.000000\n",
      "mean    20.662397\n",
      "std     19.845890\n",
      "min      0.000000\n",
      "25%      0.000000\n",
      "50%     20.417823\n",
      "75%     40.981366\n",
      "max     53.913849\n",
      "VERACRUZ DE IGNACIO DE LA LLAVE\n",
      "                0\n",
      "count  166.000000\n",
      "mean    29.004875\n",
      "std     30.719933\n",
      "min      0.000000\n",
      "25%      0.000000\n",
      "50%     13.038602\n",
      "75%     67.542132\n",
      "max     74.865112\n",
      "YUCATÁN\n",
      "                0\n",
      "count  170.000000\n",
      "mean    22.487838\n",
      "std     20.294157\n",
      "min      0.000000\n",
      "25%      0.000000\n",
      "50%     18.562152\n",
      "75%     43.642077\n",
      "max     62.415067\n",
      "ZACATECAS\n",
      "                0\n",
      "count  170.000000\n",
      "mean    12.725927\n",
      "std     13.430722\n",
      "min      0.000000\n",
      "25%      0.000000\n",
      "50%      8.429963\n",
      "75%     22.839085\n",
      "max     43.311999\n"
     ]
    }
   ],
   "source": [
    "for i in x:\n",
    "    print(estados2['ENTIDAD_FEDERATIVA'][i])\n",
    "    print(pct2[i].describe())"
   ]
  },
  {
   "cell_type": "code",
   "execution_count": null,
   "metadata": {},
   "outputs": [],
   "source": [
    "pos={}\n",
    "pos2={}\n",
    "total={}\n",
    "total2={}\n",
    "pct={}\n",
    "pct2={}\n",
    "\n",
    "for i in x:\n",
    "    pos[i]=base_positivo[base_positivo['ENTIDAD_UM']==i] #de la base de positivos por covid, selecciona las del estado i\n",
    "    pos2[i]=pos[i].pivot_table(index=['FECHA_INGRESO'], aggfunc='size') #contamos las muertes por dia por covid del estado i\n",
    "    total[i]=base_prueba[base_prueba['ENTIDAD_UM']==i] #de la base de muertes con prueba, selecciona las del edo i\n",
    "    total2[i]=total[i].pivot_table(index=['FECHA_INGRESO'], aggfunc='size') #contamos las muertes por dia del estado i\n",
    "    pct[i]=pos2[i]/total2[i] #letalidad como muerte 1/ muertes 1 y 2\n",
    "    pct[i]=pd.DataFrame(pct[i]) #lo anterior como df\n",
    "    idx=pd.date_range(pct[i].index[0],hoy) #crea un rango de fechas, desde el primero con muertes hasta hoy\n",
    "    pct[i]=pct[i].reindex(idx, fill_value=0) #reindexa para tener todas las fechas, las que faltaban valen 0\n",
    "    pct[i]=pct[i].fillna(0) #quedaron algunas fechas con NA, cambiamos NA por 0\n",
    "    pct2[i]= pct[i].iloc[:,0].rolling(window=7).mean()*100 #media movil 7 dias\n",
    "    pct2[i]= pd.DataFrame(pct2[i])   #lo pasamos a df\n",
    "    pct2[i].plot()\n",
    "    plt.title('Pruebas positivas por día: ' + estados2['ENTIDAD_FEDERATIVA'][i])\n",
    "    #plt.xlabel('Fecha')\n",
    "    plt.ylabel('Porcentaje (%)')\n",
    "    plt.legend(['Media móvil 7 días'])\n",
    "    plt.xlim([datetime.datetime.strptime('2020-26-03','%Y-%d-%m'),hoy])\n",
    "    plt.axvspan(corte,hoy,color='r',alpha=0.2)\n",
    "    plt.text(corte,np.min(pct2[i]),'En proceso de reporte',fontsize=10,rotation=90)\n",
    "    plt.savefig(path2 + 'pruebas_'+ estados2['ENTIDAD_FEDERATIVA'][i] +'.png', bbox_inches='tight')\n",
    "    plt.clf()\n",
    " "
   ]
  }
 ],
 "metadata": {
  "kernelspec": {
   "display_name": "Python 3",
   "language": "python",
   "name": "python3"
  },
  "language_info": {
   "codemirror_mode": {
    "name": "ipython",
    "version": 3
   },
   "file_extension": ".py",
   "mimetype": "text/x-python",
   "name": "python",
   "nbconvert_exporter": "python",
   "pygments_lexer": "ipython3",
   "version": "3.7.1"
  }
 },
 "nbformat": 4,
 "nbformat_minor": 2
}
